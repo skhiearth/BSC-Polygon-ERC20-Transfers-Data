{
 "cells": [
  {
   "cell_type": "code",
   "execution_count": 1,
   "id": "10086f79",
   "metadata": {},
   "outputs": [],
   "source": [
    "# Library Imports\n",
    "import pandas as pd\n",
    "import numpy as np\n",
    "import math\n",
    "import matplotlib.pyplot as plt\n",
    "import warnings\n",
    "warnings.filterwarnings('ignore')"
   ]
  },
  {
   "cell_type": "markdown",
   "id": "325c1843",
   "metadata": {},
   "source": [
    "### Data Cleaning"
   ]
  },
  {
   "cell_type": "code",
   "execution_count": 2,
   "id": "f4aeb0d3",
   "metadata": {},
   "outputs": [
    {
     "name": "stdout",
     "output_type": "stream",
     "text": [
      "The dataframe has 9168 rows and 15 columns.\n"
     ]
    },
    {
     "data": {
      "text/html": [
       "<div>\n",
       "<style scoped>\n",
       "    .dataframe tbody tr th:only-of-type {\n",
       "        vertical-align: middle;\n",
       "    }\n",
       "\n",
       "    .dataframe tbody tr th {\n",
       "        vertical-align: top;\n",
       "    }\n",
       "\n",
       "    .dataframe thead th {\n",
       "        text-align: right;\n",
       "    }\n",
       "</style>\n",
       "<table border=\"1\" class=\"dataframe\">\n",
       "  <thead>\n",
       "    <tr style=\"text-align: right;\">\n",
       "      <th></th>\n",
       "      <th>TxHash</th>\n",
       "      <th>Block_Time</th>\n",
       "      <th>Block_Height</th>\n",
       "      <th>Gas</th>\n",
       "      <th>User_Address</th>\n",
       "      <th>From</th>\n",
       "      <th>To</th>\n",
       "      <th>Token_Contract</th>\n",
       "      <th>Value</th>\n",
       "      <th>Hour-GMT</th>\n",
       "      <th>Date</th>\n",
       "      <th>Month</th>\n",
       "      <th>Week</th>\n",
       "      <th>Weekday</th>\n",
       "      <th>DayName</th>\n",
       "    </tr>\n",
       "  </thead>\n",
       "  <tbody>\n",
       "    <tr>\n",
       "      <th>0</th>\n",
       "      <td>0x853ddb911bb876f735869b3ddb1d974ba4da384fc879...</td>\n",
       "      <td>2021-06-04 09:07:37</td>\n",
       "      <td>15317982</td>\n",
       "      <td>87349</td>\n",
       "      <td>0x598e630ea3e4c3de045ca0dd5f377565ec2f540c</td>\n",
       "      <td>0xbca17c85f7e965ae6f5d05769d300e59221cf1e2</td>\n",
       "      <td>0x84bc707040118153a3b6dd1dbf149085e6352b08</td>\n",
       "      <td>0x2791bca1f2de4661ed88a30c99a7a9449aa84174</td>\n",
       "      <td>138019351</td>\n",
       "      <td>9</td>\n",
       "      <td>2021-06-04</td>\n",
       "      <td>6</td>\n",
       "      <td>22</td>\n",
       "      <td>4</td>\n",
       "      <td>Friday</td>\n",
       "    </tr>\n",
       "    <tr>\n",
       "      <th>1</th>\n",
       "      <td>0x3893c3dc494017af0ac55d79fe0222821f11a4c4eb8b...</td>\n",
       "      <td>2021-06-04 09:06:37</td>\n",
       "      <td>15317952</td>\n",
       "      <td>104449</td>\n",
       "      <td>0x598e630ea3e4c3de045ca0dd5f377565ec2f540c</td>\n",
       "      <td>0xbca17c85f7e965ae6f5d05769d300e59221cf1e2</td>\n",
       "      <td>0xdce5047d0876756c15fd704237c737f393d7e86a</td>\n",
       "      <td>0x2791bca1f2de4661ed88a30c99a7a9449aa84174</td>\n",
       "      <td>298325237</td>\n",
       "      <td>9</td>\n",
       "      <td>2021-06-04</td>\n",
       "      <td>6</td>\n",
       "      <td>22</td>\n",
       "      <td>4</td>\n",
       "      <td>Friday</td>\n",
       "    </tr>\n",
       "  </tbody>\n",
       "</table>\n",
       "</div>"
      ],
      "text/plain": [
       "                                              TxHash          Block_Time  \\\n",
       "0  0x853ddb911bb876f735869b3ddb1d974ba4da384fc879... 2021-06-04 09:07:37   \n",
       "1  0x3893c3dc494017af0ac55d79fe0222821f11a4c4eb8b... 2021-06-04 09:06:37   \n",
       "\n",
       "   Block_Height     Gas                                User_Address  \\\n",
       "0      15317982   87349  0x598e630ea3e4c3de045ca0dd5f377565ec2f540c   \n",
       "1      15317952  104449  0x598e630ea3e4c3de045ca0dd5f377565ec2f540c   \n",
       "\n",
       "                                         From  \\\n",
       "0  0xbca17c85f7e965ae6f5d05769d300e59221cf1e2   \n",
       "1  0xbca17c85f7e965ae6f5d05769d300e59221cf1e2   \n",
       "\n",
       "                                           To  \\\n",
       "0  0x84bc707040118153a3b6dd1dbf149085e6352b08   \n",
       "1  0xdce5047d0876756c15fd704237c737f393d7e86a   \n",
       "\n",
       "                               Token_Contract      Value  Hour-GMT  \\\n",
       "0  0x2791bca1f2de4661ed88a30c99a7a9449aa84174  138019351         9   \n",
       "1  0x2791bca1f2de4661ed88a30c99a7a9449aa84174  298325237         9   \n",
       "\n",
       "         Date  Month  Week  Weekday DayName  \n",
       "0  2021-06-04      6    22        4  Friday  \n",
       "1  2021-06-04      6    22        4  Friday  "
      ]
     },
     "execution_count": 2,
     "metadata": {},
     "output_type": "execute_result"
    }
   ],
   "source": [
    "dfPolygon = pd.read_csv('Data/evoDeFiPolygon.csv')\n",
    "\n",
    "# Convert to readable timestamps\n",
    "dfPolygon['Block_Time'] = dfPolygon['Block_Time'].str.replace('T', ' ')\n",
    "dfPolygon['Block_Time'] = dfPolygon['Block_Time'].str.replace('Z', '')\n",
    "dfPolygon['Block_Time'] = pd.to_datetime(dfPolygon['Block_Time'])\n",
    "dfPolygon['Hour-GMT'] = dfPolygon['Block_Time'].dt.hour\n",
    "dfPolygon['Date'] = dfPolygon['Block_Time'].dt.date\n",
    "dfPolygon['Month'] = dfPolygon['Block_Time'].dt.month\n",
    "dfPolygon['Week'] = dfPolygon['Block_Time'].dt.week\n",
    "dfPolygon['Weekday'] = dfPolygon['Block_Time'].dt.dayofweek\n",
    "dfPolygon['DayName'] = dfPolygon['Block_Time'].dt.day_name()\n",
    "print(\"The dataframe has {} rows and {} columns.\".format(dfPolygon.shape[0], dfPolygon.shape[1]))\n",
    "dfPolygon.head(2)"
   ]
  },
  {
   "cell_type": "code",
   "execution_count": 3,
   "id": "8b5c9119",
   "metadata": {},
   "outputs": [
    {
     "data": {
      "text/plain": [
       "0x2791bca1f2de4661ed88a30c99a7a9449aa84174    8291\n",
       "0x7ceb23fd6bc0add59e62ac25578270cff1b9f619     568\n",
       "0x0d500b1d8e8ef31e21c99d1db9a6444d3adf1270     284\n",
       "0x161c0ece60dcfcdc3e4bdd5f1cde3ed2f68285a9      25\n",
       "Name: Token_Contract, dtype: int64"
      ]
     },
     "execution_count": 3,
     "metadata": {},
     "output_type": "execute_result"
    }
   ],
   "source": [
    "dfPolygon.Token_Contract.value_counts()"
   ]
  },
  {
   "cell_type": "code",
   "execution_count": 4,
   "id": "92563da7",
   "metadata": {},
   "outputs": [
    {
     "data": {
      "text/html": [
       "<div>\n",
       "<style scoped>\n",
       "    .dataframe tbody tr th:only-of-type {\n",
       "        vertical-align: middle;\n",
       "    }\n",
       "\n",
       "    .dataframe tbody tr th {\n",
       "        vertical-align: top;\n",
       "    }\n",
       "\n",
       "    .dataframe thead th {\n",
       "        text-align: right;\n",
       "    }\n",
       "</style>\n",
       "<table border=\"1\" class=\"dataframe\">\n",
       "  <thead>\n",
       "    <tr style=\"text-align: right;\">\n",
       "      <th></th>\n",
       "      <th>TxHash</th>\n",
       "      <th>Block_Time</th>\n",
       "      <th>Block_Height</th>\n",
       "      <th>Gas</th>\n",
       "      <th>User_Address</th>\n",
       "      <th>From</th>\n",
       "      <th>To</th>\n",
       "      <th>Token_Contract</th>\n",
       "      <th>Value</th>\n",
       "      <th>Hour-GMT</th>\n",
       "      <th>Date</th>\n",
       "      <th>Month</th>\n",
       "      <th>Week</th>\n",
       "      <th>Weekday</th>\n",
       "      <th>DayName</th>\n",
       "      <th>Token_Symbol</th>\n",
       "      <th>Token_Name</th>\n",
       "      <th>Token_Decimals</th>\n",
       "    </tr>\n",
       "  </thead>\n",
       "  <tbody>\n",
       "    <tr>\n",
       "      <th>0</th>\n",
       "      <td>0x853ddb911bb876f735869b3ddb1d974ba4da384fc879...</td>\n",
       "      <td>2021-06-04 09:07:37</td>\n",
       "      <td>15317982</td>\n",
       "      <td>87349</td>\n",
       "      <td>0x598e630ea3e4c3de045ca0dd5f377565ec2f540c</td>\n",
       "      <td>0xbca17c85f7e965ae6f5d05769d300e59221cf1e2</td>\n",
       "      <td>0x84bc707040118153a3b6dd1dbf149085e6352b08</td>\n",
       "      <td>0x2791bca1f2de4661ed88a30c99a7a9449aa84174</td>\n",
       "      <td>138019351</td>\n",
       "      <td>9</td>\n",
       "      <td>2021-06-04</td>\n",
       "      <td>6</td>\n",
       "      <td>22</td>\n",
       "      <td>4</td>\n",
       "      <td>Friday</td>\n",
       "      <td>USDC</td>\n",
       "      <td>USD Coin (PoS)</td>\n",
       "      <td>18</td>\n",
       "    </tr>\n",
       "    <tr>\n",
       "      <th>1</th>\n",
       "      <td>0x3893c3dc494017af0ac55d79fe0222821f11a4c4eb8b...</td>\n",
       "      <td>2021-06-04 09:06:37</td>\n",
       "      <td>15317952</td>\n",
       "      <td>104449</td>\n",
       "      <td>0x598e630ea3e4c3de045ca0dd5f377565ec2f540c</td>\n",
       "      <td>0xbca17c85f7e965ae6f5d05769d300e59221cf1e2</td>\n",
       "      <td>0xdce5047d0876756c15fd704237c737f393d7e86a</td>\n",
       "      <td>0x2791bca1f2de4661ed88a30c99a7a9449aa84174</td>\n",
       "      <td>298325237</td>\n",
       "      <td>9</td>\n",
       "      <td>2021-06-04</td>\n",
       "      <td>6</td>\n",
       "      <td>22</td>\n",
       "      <td>4</td>\n",
       "      <td>Friday</td>\n",
       "      <td>USDC</td>\n",
       "      <td>USD Coin (PoS)</td>\n",
       "      <td>18</td>\n",
       "    </tr>\n",
       "    <tr>\n",
       "      <th>2</th>\n",
       "      <td>0xb0aa94879125c1fe5a2054ba1692e640fac89dabddeb...</td>\n",
       "      <td>2021-06-04 09:04:01</td>\n",
       "      <td>15317878</td>\n",
       "      <td>104449</td>\n",
       "      <td>0x598e630ea3e4c3de045ca0dd5f377565ec2f540c</td>\n",
       "      <td>0xbca17c85f7e965ae6f5d05769d300e59221cf1e2</td>\n",
       "      <td>0xc5f6dfca66c68bc737c8fb9ce86346e06080cd86</td>\n",
       "      <td>0x2791bca1f2de4661ed88a30c99a7a9449aa84174</td>\n",
       "      <td>1052705789</td>\n",
       "      <td>9</td>\n",
       "      <td>2021-06-04</td>\n",
       "      <td>6</td>\n",
       "      <td>22</td>\n",
       "      <td>4</td>\n",
       "      <td>Friday</td>\n",
       "      <td>USDC</td>\n",
       "      <td>USD Coin (PoS)</td>\n",
       "      <td>18</td>\n",
       "    </tr>\n",
       "    <tr>\n",
       "      <th>3</th>\n",
       "      <td>0x8ea97eab77d44994ba07066d02170107160468c9a8be...</td>\n",
       "      <td>2021-06-04 09:02:29</td>\n",
       "      <td>15317832</td>\n",
       "      <td>87349</td>\n",
       "      <td>0x598e630ea3e4c3de045ca0dd5f377565ec2f540c</td>\n",
       "      <td>0xbca17c85f7e965ae6f5d05769d300e59221cf1e2</td>\n",
       "      <td>0x755fd3fa2a4bd8c67f405894a3b1992771cc1d2b</td>\n",
       "      <td>0x2791bca1f2de4661ed88a30c99a7a9449aa84174</td>\n",
       "      <td>145470526</td>\n",
       "      <td>9</td>\n",
       "      <td>2021-06-04</td>\n",
       "      <td>6</td>\n",
       "      <td>22</td>\n",
       "      <td>4</td>\n",
       "      <td>Friday</td>\n",
       "      <td>USDC</td>\n",
       "      <td>USD Coin (PoS)</td>\n",
       "      <td>18</td>\n",
       "    </tr>\n",
       "  </tbody>\n",
       "</table>\n",
       "</div>"
      ],
      "text/plain": [
       "                                              TxHash          Block_Time  \\\n",
       "0  0x853ddb911bb876f735869b3ddb1d974ba4da384fc879... 2021-06-04 09:07:37   \n",
       "1  0x3893c3dc494017af0ac55d79fe0222821f11a4c4eb8b... 2021-06-04 09:06:37   \n",
       "2  0xb0aa94879125c1fe5a2054ba1692e640fac89dabddeb... 2021-06-04 09:04:01   \n",
       "3  0x8ea97eab77d44994ba07066d02170107160468c9a8be... 2021-06-04 09:02:29   \n",
       "\n",
       "   Block_Height     Gas                                User_Address  \\\n",
       "0      15317982   87349  0x598e630ea3e4c3de045ca0dd5f377565ec2f540c   \n",
       "1      15317952  104449  0x598e630ea3e4c3de045ca0dd5f377565ec2f540c   \n",
       "2      15317878  104449  0x598e630ea3e4c3de045ca0dd5f377565ec2f540c   \n",
       "3      15317832   87349  0x598e630ea3e4c3de045ca0dd5f377565ec2f540c   \n",
       "\n",
       "                                         From  \\\n",
       "0  0xbca17c85f7e965ae6f5d05769d300e59221cf1e2   \n",
       "1  0xbca17c85f7e965ae6f5d05769d300e59221cf1e2   \n",
       "2  0xbca17c85f7e965ae6f5d05769d300e59221cf1e2   \n",
       "3  0xbca17c85f7e965ae6f5d05769d300e59221cf1e2   \n",
       "\n",
       "                                           To  \\\n",
       "0  0x84bc707040118153a3b6dd1dbf149085e6352b08   \n",
       "1  0xdce5047d0876756c15fd704237c737f393d7e86a   \n",
       "2  0xc5f6dfca66c68bc737c8fb9ce86346e06080cd86   \n",
       "3  0x755fd3fa2a4bd8c67f405894a3b1992771cc1d2b   \n",
       "\n",
       "                               Token_Contract       Value  Hour-GMT  \\\n",
       "0  0x2791bca1f2de4661ed88a30c99a7a9449aa84174   138019351         9   \n",
       "1  0x2791bca1f2de4661ed88a30c99a7a9449aa84174   298325237         9   \n",
       "2  0x2791bca1f2de4661ed88a30c99a7a9449aa84174  1052705789         9   \n",
       "3  0x2791bca1f2de4661ed88a30c99a7a9449aa84174   145470526         9   \n",
       "\n",
       "         Date  Month  Week  Weekday DayName Token_Symbol      Token_Name  \\\n",
       "0  2021-06-04      6    22        4  Friday         USDC  USD Coin (PoS)   \n",
       "1  2021-06-04      6    22        4  Friday         USDC  USD Coin (PoS)   \n",
       "2  2021-06-04      6    22        4  Friday         USDC  USD Coin (PoS)   \n",
       "3  2021-06-04      6    22        4  Friday         USDC  USD Coin (PoS)   \n",
       "\n",
       "  Token_Decimals  \n",
       "0             18  \n",
       "1             18  \n",
       "2             18  \n",
       "3             18  "
      ]
     },
     "execution_count": 4,
     "metadata": {},
     "output_type": "execute_result"
    }
   ],
   "source": [
    "# Add token details\n",
    "def label_token(row):\n",
    "    if(row['Token_Contract'] == \"0x2791bca1f2de4661ed88a30c99a7a9449aa84174\"):\n",
    "        return([\"USDC\", \"USD Coin (PoS)\", \"18\"])\n",
    "    if(row['Token_Contract'] == \"0x7ceb23fd6bc0add59e62ac25578270cff1b9f619\"):\n",
    "        return([\"WETH\", \"Wrapped Ether\", \"18\"])\n",
    "    if(row['Token_Contract'] == \"0x0d500b1d8e8ef31e21c99d1db9a6444d3adf1270\"):\n",
    "        return([\"WMATIC\", \"Wrapped Matic\", \"18\"])\n",
    "    if(row['Token_Contract'] == \"0x161c0ece60dcfcdc3e4bdd5f1cde3ed2f68285a9\"):\n",
    "        return([\"GEN\", \"Gen Token\", \"18\"])\n",
    "    return(\"Undefined\")\n",
    "\n",
    "dfPolygon['Token_Symbol'] = dfPolygon.apply(lambda row: (label_token(row)[0]), axis=1)\n",
    "dfPolygon['Token_Name'] = dfPolygon.apply(lambda row: (label_token(row)[1]), axis=1)\n",
    "dfPolygon['Token_Decimals'] = dfPolygon.apply(lambda row: (label_token(row)[2]), axis=1)\n",
    "dfPolygon.head(4)"
   ]
  },
  {
   "cell_type": "code",
   "execution_count": 5,
   "id": "cfab3a0f",
   "metadata": {},
   "outputs": [
    {
     "data": {
      "text/html": [
       "<div>\n",
       "<style scoped>\n",
       "    .dataframe tbody tr th:only-of-type {\n",
       "        vertical-align: middle;\n",
       "    }\n",
       "\n",
       "    .dataframe tbody tr th {\n",
       "        vertical-align: top;\n",
       "    }\n",
       "\n",
       "    .dataframe thead th {\n",
       "        text-align: right;\n",
       "    }\n",
       "</style>\n",
       "<table border=\"1\" class=\"dataframe\">\n",
       "  <thead>\n",
       "    <tr style=\"text-align: right;\">\n",
       "      <th></th>\n",
       "      <th>TxHash</th>\n",
       "      <th>Block_Time</th>\n",
       "      <th>Block_Height</th>\n",
       "      <th>Gas</th>\n",
       "      <th>User_Address</th>\n",
       "      <th>From</th>\n",
       "      <th>To</th>\n",
       "      <th>Token_Contract</th>\n",
       "      <th>Value</th>\n",
       "      <th>Hour-GMT</th>\n",
       "      <th>Date</th>\n",
       "      <th>Month</th>\n",
       "      <th>Week</th>\n",
       "      <th>Weekday</th>\n",
       "      <th>DayName</th>\n",
       "      <th>Token_Symbol</th>\n",
       "      <th>Token_Name</th>\n",
       "      <th>Token_Decimals</th>\n",
       "      <th>Volume</th>\n",
       "    </tr>\n",
       "  </thead>\n",
       "  <tbody>\n",
       "    <tr>\n",
       "      <th>0</th>\n",
       "      <td>0x853ddb911bb876f735869b3ddb1d974ba4da384fc879...</td>\n",
       "      <td>2021-06-04 09:07:37</td>\n",
       "      <td>15317982</td>\n",
       "      <td>87349</td>\n",
       "      <td>0x598e630ea3e4c3de045ca0dd5f377565ec2f540c</td>\n",
       "      <td>0xbca17c85f7e965ae6f5d05769d300e59221cf1e2</td>\n",
       "      <td>0x84bc707040118153a3b6dd1dbf149085e6352b08</td>\n",
       "      <td>0x2791bca1f2de4661ed88a30c99a7a9449aa84174</td>\n",
       "      <td>138019351</td>\n",
       "      <td>9</td>\n",
       "      <td>2021-06-04</td>\n",
       "      <td>6</td>\n",
       "      <td>22</td>\n",
       "      <td>4</td>\n",
       "      <td>Friday</td>\n",
       "      <td>USDC</td>\n",
       "      <td>USD Coin (PoS)</td>\n",
       "      <td>18</td>\n",
       "      <td>138.019351</td>\n",
       "    </tr>\n",
       "    <tr>\n",
       "      <th>1</th>\n",
       "      <td>0x3893c3dc494017af0ac55d79fe0222821f11a4c4eb8b...</td>\n",
       "      <td>2021-06-04 09:06:37</td>\n",
       "      <td>15317952</td>\n",
       "      <td>104449</td>\n",
       "      <td>0x598e630ea3e4c3de045ca0dd5f377565ec2f540c</td>\n",
       "      <td>0xbca17c85f7e965ae6f5d05769d300e59221cf1e2</td>\n",
       "      <td>0xdce5047d0876756c15fd704237c737f393d7e86a</td>\n",
       "      <td>0x2791bca1f2de4661ed88a30c99a7a9449aa84174</td>\n",
       "      <td>298325237</td>\n",
       "      <td>9</td>\n",
       "      <td>2021-06-04</td>\n",
       "      <td>6</td>\n",
       "      <td>22</td>\n",
       "      <td>4</td>\n",
       "      <td>Friday</td>\n",
       "      <td>USDC</td>\n",
       "      <td>USD Coin (PoS)</td>\n",
       "      <td>18</td>\n",
       "      <td>298.325237</td>\n",
       "    </tr>\n",
       "  </tbody>\n",
       "</table>\n",
       "</div>"
      ],
      "text/plain": [
       "                                              TxHash          Block_Time  \\\n",
       "0  0x853ddb911bb876f735869b3ddb1d974ba4da384fc879... 2021-06-04 09:07:37   \n",
       "1  0x3893c3dc494017af0ac55d79fe0222821f11a4c4eb8b... 2021-06-04 09:06:37   \n",
       "\n",
       "   Block_Height     Gas                                User_Address  \\\n",
       "0      15317982   87349  0x598e630ea3e4c3de045ca0dd5f377565ec2f540c   \n",
       "1      15317952  104449  0x598e630ea3e4c3de045ca0dd5f377565ec2f540c   \n",
       "\n",
       "                                         From  \\\n",
       "0  0xbca17c85f7e965ae6f5d05769d300e59221cf1e2   \n",
       "1  0xbca17c85f7e965ae6f5d05769d300e59221cf1e2   \n",
       "\n",
       "                                           To  \\\n",
       "0  0x84bc707040118153a3b6dd1dbf149085e6352b08   \n",
       "1  0xdce5047d0876756c15fd704237c737f393d7e86a   \n",
       "\n",
       "                               Token_Contract      Value  Hour-GMT  \\\n",
       "0  0x2791bca1f2de4661ed88a30c99a7a9449aa84174  138019351         9   \n",
       "1  0x2791bca1f2de4661ed88a30c99a7a9449aa84174  298325237         9   \n",
       "\n",
       "         Date  Month  Week  Weekday DayName Token_Symbol      Token_Name  \\\n",
       "0  2021-06-04      6    22        4  Friday         USDC  USD Coin (PoS)   \n",
       "1  2021-06-04      6    22        4  Friday         USDC  USD Coin (PoS)   \n",
       "\n",
       "  Token_Decimals      Volume  \n",
       "0             18  138.019351  \n",
       "1             18  298.325237  "
      ]
     },
     "execution_count": 5,
     "metadata": {},
     "output_type": "execute_result"
    }
   ],
   "source": [
    "# Fix token value details\n",
    "def fix_value(row):\n",
    "    if(row['Token_Symbol'] == \"USDC\"):\n",
    "        return(int(row[\"Value\"]) * pow(10, -6))\n",
    "    if(row['Token_Symbol'] == \"WETH\"):\n",
    "        return(int(row[\"Value\"]) * pow(10, -18))\n",
    "    if(row['Token_Symbol'] == \"WMATIC\"):\n",
    "        return(int(row[\"Value\"]) * pow(10, -18))\n",
    "    if(row['Token_Symbol'] == \"GEN\"):\n",
    "        return(int(row[\"Value\"]) * pow(10, -18))\n",
    "    return(0)\n",
    "\n",
    "dfPolygon['Volume'] = dfPolygon.apply(lambda row: fix_value(row), axis=1)\n",
    "dfPolygon.head(2)"
   ]
  },
  {
   "cell_type": "code",
   "execution_count": 6,
   "id": "47cd617e",
   "metadata": {},
   "outputs": [
    {
     "name": "stdout",
     "output_type": "stream",
     "text": [
      "The dfPolygonIn dataframe has 9073 rows and 19 columns.\n",
      "The dfPolygonOut dataframe has 95 rows and 19 columns.\n"
     ]
    }
   ],
   "source": [
    "dfPolygonIn = dfPolygon[dfPolygon['From']==\"0xbca17c85f7e965ae6f5d05769d300e59221cf1e2\"]\n",
    "dfPolygonOut = dfPolygon[dfPolygon['From']!=\"0xbca17c85f7e965ae6f5d05769d300e59221cf1e2\"]\n",
    "print(\"The dfPolygonIn dataframe has {} rows and {} columns.\".format(dfPolygonIn.shape[0], dfPolygonIn.shape[1]))\n",
    "print(\"The dfPolygonOut dataframe has {} rows and {} columns.\".format(dfPolygonOut.shape[0], dfPolygonOut.shape[1]))"
   ]
  },
  {
   "cell_type": "markdown",
   "id": "1b2e44d0",
   "metadata": {},
   "source": [
    "### Visulations"
   ]
  },
  {
   "cell_type": "code",
   "execution_count": 7,
   "id": "26fc1997",
   "metadata": {},
   "outputs": [],
   "source": [
    "import datetime\n",
    "dfPolygonIn = dfPolygonIn[dfPolygonIn['Date']!=datetime.date(2021,5,28)]\n",
    "dfPolygonOut = dfPolygonOut[dfPolygonOut['Date']!=datetime.date(2021,5,28)]"
   ]
  },
  {
   "cell_type": "code",
   "execution_count": 8,
   "id": "350951a5",
   "metadata": {},
   "outputs": [],
   "source": [
    "def groupByTime(period = \"Date\", groupBy2 = None):\n",
    "    dfPolygonInGrouped = dfPolygonIn.groupby(period).agg({'Volume': ['min', 'max', 'sum', 'mean', 'median']})\n",
    "    dfPolygonInGrouped['Volume']['sum'] = dfPolygonInGrouped['Volume']['sum'].round()\n",
    "    \n",
    "    dfPolygonOutGrouped = dfPolygonOut.groupby(period).agg({'Volume': ['min', 'max', 'sum', 'mean', 'median']})\n",
    "    dfPolygonOutGrouped['Volume']['sum'] = dfPolygonOutGrouped['Volume']['sum'].round()\n",
    "    \n",
    "    return dfPolygonInGrouped, dfPolygonOutGrouped\n",
    "\n",
    "def plotVolumeByTime(period = \"Date\"):\n",
    "    dfPolygonInGrouped, dfPolygonOutGrouped = groupByTime(period = \"Date\")\n",
    "    \n",
    "    print(\"---FUNDS INTO POLYGON---\")\n",
    "    print(dfPolygonInGrouped)\n",
    "    \n",
    "    print(\"---FUNDS TO BSC---\")\n",
    "    print(dfPolygonOutGrouped)\n",
    "\n",
    "    fig, ax = plt.subplots(figsize=(14, 8))\n",
    "\n",
    "    ax.bar(dfPolygonInGrouped.index, dfPolygonInGrouped['Volume']['sum'], color='g', label='In Polygon')\n",
    "    ax.plot(dfPolygonInGrouped.index, dfPolygonInGrouped['Volume']['sum'], color='g')\n",
    "    ax.bar(dfPolygonOutGrouped.index, -dfPolygonOutGrouped['Volume']['sum'], color='red', label='To BSC')\n",
    "\n",
    "    fig.suptitle('Volume of total transfers BSC<>Polygon via EVO Bridge by {}'.format(period))\n",
    "    fig.supxlabel(period)\n",
    "    fig.supylabel('Volume')    \n",
    "\n",
    "    fig.legend()\n",
    "    plt.show()\n",
    "    fig.savefig('Plots/VolumeBy{}.jpg'.format(period))\n",
    "    plt.close()"
   ]
  },
  {
   "cell_type": "code",
   "execution_count": 9,
   "id": "e424105f",
   "metadata": {
    "scrolled": true
   },
   "outputs": [
    {
     "name": "stdout",
     "output_type": "stream",
     "text": [
      "---FUNDS INTO POLYGON---\n",
      "            Volume                                                  \n",
      "               min           max        sum         mean      median\n",
      "Date                                                                \n",
      "2021-05-29  0.0199  39800.000000  1500839.0  1371.881690  216.276604\n",
      "2021-05-30  0.0199  50000.000000  1858558.0  1457.692521  235.925898\n",
      "2021-05-31  0.0199  39800.000000  3563839.0  2193.131608  273.790699\n",
      "2021-06-01  0.0199  39800.000000  3318088.0  1848.517093  266.400587\n",
      "2021-06-02  0.0199  39800.000000  2087308.0  1555.370730  215.815449\n",
      "2021-06-03  0.0199  39800.000000  1937741.0  1290.966612  226.992267\n",
      "2021-06-04  0.0199  25664.669654   555090.0  1309.175201  208.700592\n",
      "---FUNDS TO BSC---\n",
      "            Volume                                         \n",
      "               min     max      sum         mean     median\n",
      "Date                                                       \n",
      "2021-05-29   29.85  4975.0  25372.0   305.687956   66.16750\n",
      "2021-05-30   27.60  9800.0  11699.0  1462.362974  130.52634\n",
      "2021-05-31  420.75   796.0   1217.0   608.375000  608.37500\n"
     ]
    },
    {
     "data": {
      "image/png": "[encoded data removed]",
      "text/plain": [
       "<Figure size 1008x576 with 1 Axes>"
      ]
     },
     "metadata": {
      "needs_background": "light"
     },
     "output_type": "display_data"
    },
    {
     "name": "stdout",
     "output_type": "stream",
     "text": [
      "---FUNDS INTO POLYGON---\n",
      "            Volume                                                  \n",
      "               min           max        sum         mean      median\n",
      "Date                                                                \n",
      "2021-05-29  0.0199  39800.000000  1500839.0  1371.881690  216.276604\n",
      "2021-05-30  0.0199  50000.000000  1858558.0  1457.692521  235.925898\n",
      "2021-05-31  0.0199  39800.000000  3563839.0  2193.131608  273.790699\n",
      "2021-06-01  0.0199  39800.000000  3318088.0  1848.517093  266.400587\n",
      "2021-06-02  0.0199  39800.000000  2087308.0  1555.370730  215.815449\n",
      "2021-06-03  0.0199  39800.000000  1937741.0  1290.966612  226.992267\n",
      "2021-06-04  0.0199  25664.669654   555090.0  1309.175201  208.700592\n",
      "---FUNDS TO BSC---\n",
      "            Volume                                         \n",
      "               min     max      sum         mean     median\n",
      "Date                                                       \n",
      "2021-05-29   29.85  4975.0  25372.0   305.687956   66.16750\n",
      "2021-05-30   27.60  9800.0  11699.0  1462.362974  130.52634\n",
      "2021-05-31  420.75   796.0   1217.0   608.375000  608.37500\n"
     ]
    },
    {
     "data": {
      "image/png": "[encoded data removed]",
      "text/plain": [
       "<Figure size 1008x576 with 1 Axes>"
      ]
     },
     "metadata": {
      "needs_background": "light"
     },
     "output_type": "display_data"
    },
    {
     "name": "stdout",
     "output_type": "stream",
     "text": [
      "---FUNDS INTO POLYGON---\n",
      "            Volume                                                  \n",
      "               min           max        sum         mean      median\n",
      "Date                                                                \n",
      "2021-05-29  0.0199  39800.000000  1500839.0  1371.881690  216.276604\n",
      "2021-05-30  0.0199  50000.000000  1858558.0  1457.692521  235.925898\n",
      "2021-05-31  0.0199  39800.000000  3563839.0  2193.131608  273.790699\n",
      "2021-06-01  0.0199  39800.000000  3318088.0  1848.517093  266.400587\n",
      "2021-06-02  0.0199  39800.000000  2087308.0  1555.370730  215.815449\n",
      "2021-06-03  0.0199  39800.000000  1937741.0  1290.966612  226.992267\n",
      "2021-06-04  0.0199  25664.669654   555090.0  1309.175201  208.700592\n",
      "---FUNDS TO BSC---\n",
      "            Volume                                         \n",
      "               min     max      sum         mean     median\n",
      "Date                                                       \n",
      "2021-05-29   29.85  4975.0  25372.0   305.687956   66.16750\n",
      "2021-05-30   27.60  9800.0  11699.0  1462.362974  130.52634\n",
      "2021-05-31  420.75   796.0   1217.0   608.375000  608.37500\n"
     ]
    },
    {
     "data": {
      "image/png": "[encoded data removed]",
      "text/plain": [
       "<Figure size 1008x576 with 1 Axes>"
      ]
     },
     "metadata": {
      "needs_background": "light"
     },
     "output_type": "display_data"
    }
   ],
   "source": [
    "# 'Date' 'Hour', 'Month', 'Week', 'Weekday', 'DayName'\n",
    "plotVolumeByTime(period = \"Date\")\n",
    "plotVolumeByTime(period = \"Hour-GMT\")\n",
    "plotVolumeByTime(period = \"DayName\")"
   ]
  },
  {
   "cell_type": "code",
   "execution_count": 10,
   "id": "1ef9f0b1",
   "metadata": {},
   "outputs": [],
   "source": [
    "def groupByTokenandPeriod(period = \"Date\"):    \n",
    "    dfPolygonInGrouped = dfPolygonIn.groupby([\"Token_Symbol\", period], as_index=False).agg({'Volume': ['count', 'min', 'max', 'sum', 'mean', 'median']})\n",
    "    dfPolygonInGrouped['Volume']['sum'] = dfPolygonInGrouped['Volume']['sum'].round()\n",
    "\n",
    "    dfPolygonOutGrouped = dfPolygonOut.groupby([\"Token_Symbol\", period], as_index=False).agg({'Volume': ['count', 'min', 'max', 'sum', 'mean', 'median']})\n",
    "    dfPolygonOutGrouped['Volume']['sum'] = dfPolygonOutGrouped['Volume']['sum'].round()\n",
    "    \n",
    "    return dfPolygonInGrouped, dfPolygonOutGrouped"
   ]
  },
  {
   "cell_type": "code",
   "execution_count": 17,
   "id": "6646e18f",
   "metadata": {
    "scrolled": false
   },
   "outputs": [
    {
     "data": {
      "application/vnd.plotly.v1+json": {
       "config": {
        "plotlyServerURL": "https://plot.ly"
       },
       "data": [
        {
         "branchvalues": "total",
         "domain": {
          "x": [
           0,
           1
          ],
          "y": [
           0,
           1
          ]
         },
         "hovertemplate": "labels=%{label}<br>sales=%{value}<br>parent=%{parent}<br>id=%{id}<extra></extra>",
         "ids": [
          "all/In Polygon/USDC",
          "all/In Polygon/WETH",
          "all/In Polygon",
          "all"
         ],
         "labels": [
          "USDC",
          "WETH",
          "In Polygon",
          "all"
         ],
         "name": "",
         "parents": [
          "all/In Polygon",
          "all/In Polygon",
          "all",
          ""
         ],
         "type": "treemap",
         "values": [
          1271,
          71,
          1342,
          1342
         ]
        }
       ],
       "layout": {
        "legend": {
         "tracegroupgap": 0
        },
        "template": {
         "data": {
          "bar": [
           {
            "error_x": {
             "color": "#2a3f5f"
            },
            "error_y": {
             "color": "#2a3f5f"
            },
            "marker": {
             "line": {
              "color": "#E5ECF6",
              "width": 0.5
             }
            },
            "type": "bar"
           }
          ],
          "barpolar": [
           {
            "marker": {
             "line": {
              "color": "#E5ECF6",
              "width": 0.5
             }
            },
            "type": "barpolar"
           }
          ],
          "carpet": [
           {
            "aaxis": {
             "endlinecolor": "#2a3f5f",
             "gridcolor": "white",
             "linecolor": "white",
             "minorgridcolor": "white",
             "startlinecolor": "#2a3f5f"
            },
            "baxis": {
             "endlinecolor": "#2a3f5f",
             "gridcolor": "white",
             "linecolor": "white",
             "minorgridcolor": "white",
             "startlinecolor": "#2a3f5f"
            },
            "type": "carpet"
           }
          ],
          "choropleth": [
           {
            "colorbar": {
             "outlinewidth": 0,
             "ticks": ""
            },
            "type": "choropleth"
           }
          ],
          "contour": [
           {
            "colorbar": {
             "outlinewidth": 0,
             "ticks": ""
            },
            "colorscale": [
             [
              0,
              "#0d0887"
             ],
             [
              0.1111111111111111,
              "#46039f"
             ],
             [
              0.2222222222222222,
              "#7201a8"
             ],
             [
              0.3333333333333333,
              "#9c179e"
             ],
             [
              0.4444444444444444,
              "#bd3786"
             ],
             [
              0.5555555555555556,
              "#d8576b"
             ],
             [
              0.6666666666666666,
              "#ed7953"
             ],
             [
              0.7777777777777778,
              "#fb9f3a"
             ],
             [
              0.8888888888888888,
              "#fdca26"
             ],
             [
              1,
              "#f0f921"
             ]
            ],
            "type": "contour"
           }
          ],
          "contourcarpet": [
           {
            "colorbar": {
             "outlinewidth": 0,
             "ticks": ""
            },
            "type": "contourcarpet"
           }
          ],
          "heatmap": [
           {
            "colorbar": {
             "outlinewidth": 0,
             "ticks": ""
            },
            "colorscale": [
             [
              0,
              "#0d0887"
             ],
             [
              0.1111111111111111,
              "#46039f"
             ],
             [
              0.2222222222222222,
              "#7201a8"
             ],
             [
              0.3333333333333333,
              "#9c179e"
             ],
             [
              0.4444444444444444,
              "#bd3786"
             ],
             [
              0.5555555555555556,
              "#d8576b"
             ],
             [
              0.6666666666666666,
              "#ed7953"
             ],
             [
              0.7777777777777778,
              "#fb9f3a"
             ],
             [
              0.8888888888888888,
              "#fdca26"
             ],
             [
              1,
              "#f0f921"
             ]
            ],
            "type": "heatmap"
           }
          ],
          "heatmapgl": [
           {
            "colorbar": {
             "outlinewidth": 0,
             "ticks": ""
            },
            "colorscale": [
             [
              0,
              "#0d0887"
             ],
             [
              0.1111111111111111,
              "#46039f"
             ],
             [
              0.2222222222222222,
              "#7201a8"
             ],
             [
              0.3333333333333333,
              "#9c179e"
             ],
             [
              0.4444444444444444,
              "#bd3786"
             ],
             [
              0.5555555555555556,
              "#d8576b"
             ],
             [
              0.6666666666666666,
              "#ed7953"
             ],
             [
              0.7777777777777778,
              "#fb9f3a"
             ],
             [
              0.8888888888888888,
              "#fdca26"
             ],
             [
              1,
              "#f0f921"
             ]
            ],
            "type": "heatmapgl"
           }
          ],
          "histogram": [
           {
            "marker": {
             "colorbar": {
              "outlinewidth": 0,
              "ticks": ""
             }
            },
            "type": "histogram"
           }
          ],
          "histogram2d": [
           {
            "colorbar": {
             "outlinewidth": 0,
             "ticks": ""
            },
            "colorscale": [
             [
              0,
              "#0d0887"
             ],
             [
              0.1111111111111111,
              "#46039f"
             ],
             [
              0.2222222222222222,
              "#7201a8"
             ],
             [
              0.3333333333333333,
              "#9c179e"
             ],
             [
              0.4444444444444444,
              "#bd3786"
             ],
             [
              0.5555555555555556,
              "#d8576b"
             ],
             [
              0.6666666666666666,
              "#ed7953"
             ],
             [
              0.7777777777777778,
              "#fb9f3a"
             ],
             [
              0.8888888888888888,
              "#fdca26"
             ],
             [
              1,
              "#f0f921"
             ]
            ],
            "type": "histogram2d"
           }
          ],
          "histogram2dcontour": [
           {
            "colorbar": {
             "outlinewidth": 0,
             "ticks": ""
            },
            "colorscale": [
             [
              0,
              "#0d0887"
             ],
             [
              0.1111111111111111,
              "#46039f"
             ],
             [
              0.2222222222222222,
              "#7201a8"
             ],
             [
              0.3333333333333333,
              "#9c179e"
             ],
             [
              0.4444444444444444,
              "#bd3786"
             ],
             [
              0.5555555555555556,
              "#d8576b"
             ],
             [
              0.6666666666666666,
              "#ed7953"
             ],
             [
              0.7777777777777778,
              "#fb9f3a"
             ],
             [
              0.8888888888888888,
              "#fdca26"
             ],
             [
              1,
              "#f0f921"
             ]
            ],
            "type": "histogram2dcontour"
           }
          ],
          "mesh3d": [
           {
            "colorbar": {
             "outlinewidth": 0,
             "ticks": ""
            },
            "type": "mesh3d"
           }
          ],
          "parcoords": [
           {
            "line": {
             "colorbar": {
              "outlinewidth": 0,
              "ticks": ""
             }
            },
            "type": "parcoords"
           }
          ],
          "pie": [
           {
            "automargin": true,
            "type": "pie"
           }
          ],
          "scatter": [
           {
            "marker": {
             "colorbar": {
              "outlinewidth": 0,
              "ticks": ""
             }
            },
            "type": "scatter"
           }
          ],
          "scatter3d": [
           {
            "line": {
             "colorbar": {
              "outlinewidth": 0,
              "ticks": ""
             }
            },
            "marker": {
             "colorbar": {
              "outlinewidth": 0,
              "ticks": ""
             }
            },
            "type": "scatter3d"
           }
          ],
          "scattercarpet": [
           {
            "marker": {
             "colorbar": {
              "outlinewidth": 0,
              "ticks": ""
             }
            },
            "type": "scattercarpet"
           }
          ],
          "scattergeo": [
           {
            "marker": {
             "colorbar": {
              "outlinewidth": 0,
              "ticks": ""
             }
            },
            "type": "scattergeo"
           }
          ],
          "scattergl": [
           {
            "marker": {
             "colorbar": {
              "outlinewidth": 0,
              "ticks": ""
             }
            },
            "type": "scattergl"
           }
          ],
          "scattermapbox": [
           {
            "marker": {
             "colorbar": {
              "outlinewidth": 0,
              "ticks": ""
             }
            },
            "type": "scattermapbox"
           }
          ],
          "scatterpolar": [
           {
            "marker": {
             "colorbar": {
              "outlinewidth": 0,
              "ticks": ""
             }
            },
            "type": "scatterpolar"
           }
          ],
          "scatterpolargl": [
           {
            "marker": {
             "colorbar": {
              "outlinewidth": 0,
              "ticks": ""
             }
            },
            "type": "scatterpolargl"
           }
          ],
          "scatterternary": [
           {
            "marker": {
             "colorbar": {
              "outlinewidth": 0,
              "ticks": ""
             }
            },
            "type": "scatterternary"
           }
          ],
          "surface": [
           {
            "colorbar": {
             "outlinewidth": 0,
             "ticks": ""
            },
            "colorscale": [
             [
              0,
              "#0d0887"
             ],
             [
              0.1111111111111111,
              "#46039f"
             ],
             [
              0.2222222222222222,
              "#7201a8"
             ],
             [
              0.3333333333333333,
              "#9c179e"
             ],
             [
              0.4444444444444444,
              "#bd3786"
             ],
             [
              0.5555555555555556,
              "#d8576b"
             ],
             [
              0.6666666666666666,
              "#ed7953"
             ],
             [
              0.7777777777777778,
              "#fb9f3a"
             ],
             [
              0.8888888888888888,
              "#fdca26"
             ],
             [
              1,
              "#f0f921"
             ]
            ],
            "type": "surface"
           }
          ],
          "table": [
           {
            "cells": {
             "fill": {
              "color": "#EBF0F8"
             },
             "line": {
              "color": "white"
             }
            },
            "header": {
             "fill": {
              "color": "#C8D4E3"
             },
             "line": {
              "color": "white"
             }
            },
            "type": "table"
           }
          ]
         },
         "layout": {
          "annotationdefaults": {
           "arrowcolor": "#2a3f5f",
           "arrowhead": 0,
           "arrowwidth": 1
          },
          "autotypenumbers": "strict",
          "coloraxis": {
           "colorbar": {
            "outlinewidth": 0,
            "ticks": ""
           }
          },
          "colorscale": {
           "diverging": [
            [
             0,
             "#8e0152"
            ],
            [
             0.1,
             "#c51b7d"
            ],
            [
             0.2,
             "#de77ae"
            ],
            [
             0.3,
             "#f1b6da"
            ],
            [
             0.4,
             "#fde0ef"
            ],
            [
             0.5,
             "#f7f7f7"
            ],
            [
             0.6,
             "#e6f5d0"
            ],
            [
             0.7,
             "#b8e186"
            ],
            [
             0.8,
             "#7fbc41"
            ],
            [
             0.9,
             "#4d9221"
            ],
            [
             1,
             "#276419"
            ]
           ],
           "sequential": [
            [
             0,
             "#0d0887"
            ],
            [
             0.1111111111111111,
             "#46039f"
            ],
            [
             0.2222222222222222,
             "#7201a8"
            ],
            [
             0.3333333333333333,
             "#9c179e"
            ],
            [
             0.4444444444444444,
             "#bd3786"
            ],
            [
             0.5555555555555556,
             "#d8576b"
            ],
            [
             0.6666666666666666,
             "#ed7953"
            ],
            [
             0.7777777777777778,
             "#fb9f3a"
            ],
            [
             0.8888888888888888,
             "#fdca26"
            ],
            [
             1,
             "#f0f921"
            ]
           ],
           "sequentialminus": [
            [
             0,
             "#0d0887"
            ],
            [
             0.1111111111111111,
             "#46039f"
            ],
            [
             0.2222222222222222,
             "#7201a8"
            ],
            [
             0.3333333333333333,
             "#9c179e"
            ],
            [
             0.4444444444444444,
             "#bd3786"
            ],
            [
             0.5555555555555556,
             "#d8576b"
            ],
            [
             0.6666666666666666,
             "#ed7953"
            ],
            [
             0.7777777777777778,
             "#fb9f3a"
            ],
            [
             0.8888888888888888,
             "#fdca26"
            ],
            [
             1,
             "#f0f921"
            ]
           ]
          },
          "colorway": [
           "#636efa",
           "#EF553B",
           "#00cc96",
           "#ab63fa",
           "#FFA15A",
           "#19d3f3",
           "#FF6692",
           "#B6E880",
           "#FF97FF",
           "#FECB52"
          ],
          "font": {
           "color": "#2a3f5f"
          },
          "geo": {
           "bgcolor": "white",
           "lakecolor": "white",
           "landcolor": "#E5ECF6",
           "showlakes": true,
           "showland": true,
           "subunitcolor": "white"
          },
          "hoverlabel": {
           "align": "left"
          },
          "hovermode": "closest",
          "mapbox": {
           "style": "light"
          },
          "paper_bgcolor": "white",
          "plot_bgcolor": "#E5ECF6",
          "polar": {
           "angularaxis": {
            "gridcolor": "white",
            "linecolor": "white",
            "ticks": ""
           },
           "bgcolor": "#E5ECF6",
           "radialaxis": {
            "gridcolor": "white",
            "linecolor": "white",
            "ticks": ""
           }
          },
          "scene": {
           "xaxis": {
            "backgroundcolor": "#E5ECF6",
            "gridcolor": "white",
            "gridwidth": 2,
            "linecolor": "white",
            "showbackground": true,
            "ticks": "",
            "zerolinecolor": "white"
           },
           "yaxis": {
            "backgroundcolor": "#E5ECF6",
            "gridcolor": "white",
            "gridwidth": 2,
            "linecolor": "white",
            "showbackground": true,
            "ticks": "",
            "zerolinecolor": "white"
           },
           "zaxis": {
            "backgroundcolor": "#E5ECF6",
            "gridcolor": "white",
            "gridwidth": 2,
            "linecolor": "white",
            "showbackground": true,
            "ticks": "",
            "zerolinecolor": "white"
           }
          },
          "shapedefaults": {
           "line": {
            "color": "#2a3f5f"
           }
          },
          "ternary": {
           "aaxis": {
            "gridcolor": "white",
            "linecolor": "white",
            "ticks": ""
           },
           "baxis": {
            "gridcolor": "white",
            "linecolor": "white",
            "ticks": ""
           },
           "bgcolor": "#E5ECF6",
           "caxis": {
            "gridcolor": "white",
            "linecolor": "white",
            "ticks": ""
           }
          },
          "title": {
           "x": 0.05
          },
          "xaxis": {
           "automargin": true,
           "gridcolor": "white",
           "linecolor": "white",
           "ticks": "",
           "title": {
            "standoff": 15
           },
           "zerolinecolor": "white",
           "zerolinewidth": 2
          },
          "yaxis": {
           "automargin": true,
           "gridcolor": "white",
           "linecolor": "white",
           "ticks": "",
           "title": {
            "standoff": 15
           },
           "zerolinecolor": "white",
           "zerolinewidth": 2
          }
         }
        },
        "title": {
         "text": "Total number of transactions between networks by token used on 29th May"
        }
       }
      },
      "text/html": [
       "<div>                            <div id=\"cba9dc90-19b0-4954-95ea-206838bd3490\" class=\"plotly-graph-div\" style=\"height:525px; width:100%;\"></div>            <script type=\"text/javascript\">                require([\"plotly\"], function(Plotly) {                    window.PLOTLYENV=window.PLOTLYENV || {};                                    if (document.getElementById(\"cba9dc90-19b0-4954-95ea-206838bd3490\")) {                    Plotly.newPlot(                        \"cba9dc90-19b0-4954-95ea-206838bd3490\",                        [{\"branchvalues\": \"total\", \"domain\": {\"x\": [0.0, 1.0], \"y\": [0.0, 1.0]}, \"hovertemplate\": \"labels=%{label}<br>sales=%{value}<br>parent=%{parent}<br>id=%{id}<extra></extra>\", \"ids\": [\"all/In Polygon/USDC\", \"all/In Polygon/WETH\", \"all/In Polygon\", \"all\"], \"labels\": [\"USDC\", \"WETH\", \"In Polygon\", \"all\"], \"name\": \"\", \"parents\": [\"all/In Polygon\", \"all/In Polygon\", \"all\", \"\"], \"type\": \"treemap\", \"values\": [1271, 71, 1342, 1342]}],                        {\"legend\": {\"tracegroupgap\": 0}, \"template\": {\"data\": {\"bar\": [{\"error_x\": {\"color\": \"#2a3f5f\"}, \"error_y\": {\"color\": \"#2a3f5f\"}, \"marker\": {\"line\": {\"color\": \"#E5ECF6\", \"width\": 0.5}}, \"type\": \"bar\"}], \"barpolar\": [{\"marker\": {\"line\": {\"color\": \"#E5ECF6\", \"width\": 0.5}}, \"type\": \"barpolar\"}], \"carpet\": [{\"aaxis\": {\"endlinecolor\": \"#2a3f5f\", \"gridcolor\": \"white\", \"linecolor\": \"white\", \"minorgridcolor\": \"white\", \"startlinecolor\": \"#2a3f5f\"}, \"baxis\": {\"endlinecolor\": \"#2a3f5f\", \"gridcolor\": \"white\", \"linecolor\": \"white\", \"minorgridcolor\": \"white\", \"startlinecolor\": \"#2a3f5f\"}, \"type\": \"carpet\"}], \"choropleth\": [{\"colorbar\": {\"outlinewidth\": 0, \"ticks\": \"\"}, \"type\": \"choropleth\"}], \"contour\": [{\"colorbar\": {\"outlinewidth\": 0, \"ticks\": \"\"}, \"colorscale\": [[0.0, \"#0d0887\"], [0.1111111111111111, \"#46039f\"], [0.2222222222222222, \"#7201a8\"], [0.3333333333333333, \"#9c179e\"], [0.4444444444444444, \"#bd3786\"], [0.5555555555555556, \"#d8576b\"], [0.6666666666666666, \"#ed7953\"], [0.7777777777777778, \"#fb9f3a\"], [0.8888888888888888, \"#fdca26\"], [1.0, \"#f0f921\"]], \"type\": \"contour\"}], \"contourcarpet\": [{\"colorbar\": {\"outlinewidth\": 0, \"ticks\": \"\"}, \"type\": \"contourcarpet\"}], \"heatmap\": [{\"colorbar\": {\"outlinewidth\": 0, \"ticks\": \"\"}, \"colorscale\": [[0.0, \"#0d0887\"], [0.1111111111111111, \"#46039f\"], [0.2222222222222222, \"#7201a8\"], [0.3333333333333333, \"#9c179e\"], [0.4444444444444444, \"#bd3786\"], [0.5555555555555556, \"#d8576b\"], [0.6666666666666666, \"#ed7953\"], [0.7777777777777778, \"#fb9f3a\"], [0.8888888888888888, \"#fdca26\"], [1.0, \"#f0f921\"]], \"type\": \"heatmap\"}], \"heatmapgl\": [{\"colorbar\": {\"outlinewidth\": 0, \"ticks\": \"\"}, \"colorscale\": [[0.0, \"#0d0887\"], [0.1111111111111111, \"#46039f\"], [0.2222222222222222, \"#7201a8\"], [0.3333333333333333, \"#9c179e\"], [0.4444444444444444, \"#bd3786\"], [0.5555555555555556, \"#d8576b\"], [0.6666666666666666, \"#ed7953\"], [0.7777777777777778, \"#fb9f3a\"], [0.8888888888888888, \"#fdca26\"], [1.0, \"#f0f921\"]], \"type\": \"heatmapgl\"}], \"histogram\": [{\"marker\": {\"colorbar\": {\"outlinewidth\": 0, \"ticks\": \"\"}}, \"type\": \"histogram\"}], \"histogram2d\": [{\"colorbar\": {\"outlinewidth\": 0, \"ticks\": \"\"}, \"colorscale\": [[0.0, \"#0d0887\"], [0.1111111111111111, \"#46039f\"], [0.2222222222222222, \"#7201a8\"], [0.3333333333333333, \"#9c179e\"], [0.4444444444444444, \"#bd3786\"], [0.5555555555555556, \"#d8576b\"], [0.6666666666666666, \"#ed7953\"], [0.7777777777777778, \"#fb9f3a\"], [0.8888888888888888, \"#fdca26\"], [1.0, \"#f0f921\"]], \"type\": \"histogram2d\"}], \"histogram2dcontour\": [{\"colorbar\": {\"outlinewidth\": 0, \"ticks\": \"\"}, \"colorscale\": [[0.0, \"#0d0887\"], [0.1111111111111111, \"#46039f\"], [0.2222222222222222, \"#7201a8\"], [0.3333333333333333, \"#9c179e\"], [0.4444444444444444, \"#bd3786\"], [0.5555555555555556, \"#d8576b\"], [0.6666666666666666, \"#ed7953\"], [0.7777777777777778, \"#fb9f3a\"], [0.8888888888888888, \"#fdca26\"], [1.0, \"#f0f921\"]], \"type\": \"histogram2dcontour\"}], \"mesh3d\": [{\"colorbar\": {\"outlinewidth\": 0, \"ticks\": \"\"}, \"type\": \"mesh3d\"}], \"parcoords\": [{\"line\": {\"colorbar\": {\"outlinewidth\": 0, \"ticks\": \"\"}}, \"type\": \"parcoords\"}], \"pie\": [{\"automargin\": true, \"type\": \"pie\"}], \"scatter\": [{\"marker\": {\"colorbar\": {\"outlinewidth\": 0, \"ticks\": \"\"}}, \"type\": \"scatter\"}], \"scatter3d\": [{\"line\": {\"colorbar\": {\"outlinewidth\": 0, \"ticks\": \"\"}}, \"marker\": {\"colorbar\": {\"outlinewidth\": 0, \"ticks\": \"\"}}, \"type\": \"scatter3d\"}], \"scattercarpet\": [{\"marker\": {\"colorbar\": {\"outlinewidth\": 0, \"ticks\": \"\"}}, \"type\": \"scattercarpet\"}], \"scattergeo\": [{\"marker\": {\"colorbar\": {\"outlinewidth\": 0, \"ticks\": \"\"}}, \"type\": \"scattergeo\"}], \"scattergl\": [{\"marker\": {\"colorbar\": {\"outlinewidth\": 0, \"ticks\": \"\"}}, \"type\": \"scattergl\"}], \"scattermapbox\": [{\"marker\": {\"colorbar\": {\"outlinewidth\": 0, \"ticks\": \"\"}}, \"type\": \"scattermapbox\"}], \"scatterpolar\": [{\"marker\": {\"colorbar\": {\"outlinewidth\": 0, \"ticks\": \"\"}}, \"type\": \"scatterpolar\"}], \"scatterpolargl\": [{\"marker\": {\"colorbar\": {\"outlinewidth\": 0, \"ticks\": \"\"}}, \"type\": \"scatterpolargl\"}], \"scatterternary\": [{\"marker\": {\"colorbar\": {\"outlinewidth\": 0, \"ticks\": \"\"}}, \"type\": \"scatterternary\"}], \"surface\": [{\"colorbar\": {\"outlinewidth\": 0, \"ticks\": \"\"}, \"colorscale\": [[0.0, \"#0d0887\"], [0.1111111111111111, \"#46039f\"], [0.2222222222222222, \"#7201a8\"], [0.3333333333333333, \"#9c179e\"], [0.4444444444444444, \"#bd3786\"], [0.5555555555555556, \"#d8576b\"], [0.6666666666666666, \"#ed7953\"], [0.7777777777777778, \"#fb9f3a\"], [0.8888888888888888, \"#fdca26\"], [1.0, \"#f0f921\"]], \"type\": \"surface\"}], \"table\": [{\"cells\": {\"fill\": {\"color\": \"#EBF0F8\"}, \"line\": {\"color\": \"white\"}}, \"header\": {\"fill\": {\"color\": \"#C8D4E3\"}, \"line\": {\"color\": \"white\"}}, \"type\": \"table\"}]}, \"layout\": {\"annotationdefaults\": {\"arrowcolor\": \"#2a3f5f\", \"arrowhead\": 0, \"arrowwidth\": 1}, \"autotypenumbers\": \"strict\", \"coloraxis\": {\"colorbar\": {\"outlinewidth\": 0, \"ticks\": \"\"}}, \"colorscale\": {\"diverging\": [[0, \"#8e0152\"], [0.1, \"#c51b7d\"], [0.2, \"#de77ae\"], [0.3, \"#f1b6da\"], [0.4, \"#fde0ef\"], [0.5, \"#f7f7f7\"], [0.6, \"#e6f5d0\"], [0.7, \"#b8e186\"], [0.8, \"#7fbc41\"], [0.9, \"#4d9221\"], [1, \"#276419\"]], \"sequential\": [[0.0, \"#0d0887\"], [0.1111111111111111, \"#46039f\"], [0.2222222222222222, \"#7201a8\"], [0.3333333333333333, \"#9c179e\"], [0.4444444444444444, \"#bd3786\"], [0.5555555555555556, \"#d8576b\"], [0.6666666666666666, \"#ed7953\"], [0.7777777777777778, \"#fb9f3a\"], [0.8888888888888888, \"#fdca26\"], [1.0, \"#f0f921\"]], \"sequentialminus\": [[0.0, \"#0d0887\"], [0.1111111111111111, \"#46039f\"], [0.2222222222222222, \"#7201a8\"], [0.3333333333333333, \"#9c179e\"], [0.4444444444444444, \"#bd3786\"], [0.5555555555555556, \"#d8576b\"], [0.6666666666666666, \"#ed7953\"], [0.7777777777777778, \"#fb9f3a\"], [0.8888888888888888, \"#fdca26\"], [1.0, \"#f0f921\"]]}, \"colorway\": [\"#636efa\", \"#EF553B\", \"#00cc96\", \"#ab63fa\", \"#FFA15A\", \"#19d3f3\", \"#FF6692\", \"#B6E880\", \"#FF97FF\", \"#FECB52\"], \"font\": {\"color\": \"#2a3f5f\"}, \"geo\": {\"bgcolor\": \"white\", \"lakecolor\": \"white\", \"landcolor\": \"#E5ECF6\", \"showlakes\": true, \"showland\": true, \"subunitcolor\": \"white\"}, \"hoverlabel\": {\"align\": \"left\"}, \"hovermode\": \"closest\", \"mapbox\": {\"style\": \"light\"}, \"paper_bgcolor\": \"white\", \"plot_bgcolor\": \"#E5ECF6\", \"polar\": {\"angularaxis\": {\"gridcolor\": \"white\", \"linecolor\": \"white\", \"ticks\": \"\"}, \"bgcolor\": \"#E5ECF6\", \"radialaxis\": {\"gridcolor\": \"white\", \"linecolor\": \"white\", \"ticks\": \"\"}}, \"scene\": {\"xaxis\": {\"backgroundcolor\": \"#E5ECF6\", \"gridcolor\": \"white\", \"gridwidth\": 2, \"linecolor\": \"white\", \"showbackground\": true, \"ticks\": \"\", \"zerolinecolor\": \"white\"}, \"yaxis\": {\"backgroundcolor\": \"#E5ECF6\", \"gridcolor\": \"white\", \"gridwidth\": 2, \"linecolor\": \"white\", \"showbackground\": true, \"ticks\": \"\", \"zerolinecolor\": \"white\"}, \"zaxis\": {\"backgroundcolor\": \"#E5ECF6\", \"gridcolor\": \"white\", \"gridwidth\": 2, \"linecolor\": \"white\", \"showbackground\": true, \"ticks\": \"\", \"zerolinecolor\": \"white\"}}, \"shapedefaults\": {\"line\": {\"color\": \"#2a3f5f\"}}, \"ternary\": {\"aaxis\": {\"gridcolor\": \"white\", \"linecolor\": \"white\", \"ticks\": \"\"}, \"baxis\": {\"gridcolor\": \"white\", \"linecolor\": \"white\", \"ticks\": \"\"}, \"bgcolor\": \"#E5ECF6\", \"caxis\": {\"gridcolor\": \"white\", \"linecolor\": \"white\", \"ticks\": \"\"}}, \"title\": {\"x\": 0.05}, \"xaxis\": {\"automargin\": true, \"gridcolor\": \"white\", \"linecolor\": \"white\", \"ticks\": \"\", \"title\": {\"standoff\": 15}, \"zerolinecolor\": \"white\", \"zerolinewidth\": 2}, \"yaxis\": {\"automargin\": true, \"gridcolor\": \"white\", \"linecolor\": \"white\", \"ticks\": \"\", \"title\": {\"standoff\": 15}, \"zerolinecolor\": \"white\", \"zerolinewidth\": 2}}}, \"title\": {\"text\": \"Total number of transactions between networks by token used on 29th May\"}},                        {\"responsive\": true}                    ).then(function(){\n",
       "                            \n",
       "var gd = document.getElementById('cba9dc90-19b0-4954-95ea-206838bd3490');\n",
       "var x = new MutationObserver(function (mutations, observer) {{\n",
       "        var display = window.getComputedStyle(gd).display;\n",
       "        if (!display || display === 'none') {{\n",
       "            console.log([gd, 'removed!']);\n",
       "            Plotly.purge(gd);\n",
       "            observer.disconnect();\n",
       "        }}\n",
       "}});\n",
       "\n",
       "// Listen for the removal of the full notebook cells\n",
       "var notebookContainer = gd.closest('#notebook-container');\n",
       "if (notebookContainer) {{\n",
       "    x.observe(notebookContainer, {childList: true});\n",
       "}}\n",
       "\n",
       "// Listen for the clearing of the current output cell\n",
       "var outputEl = gd.closest('.output');\n",
       "if (outputEl) {{\n",
       "    x.observe(outputEl, {childList: true});\n",
       "}}\n",
       "\n",
       "                        })                };                });            </script>        </div>"
      ]
     },
     "metadata": {},
     "output_type": "display_data"
    }
   ],
   "source": [
    "import plotly.express as px\n",
    "\n",
    "dfPolygonInGrouped, dfPolygonOutGrouped = groupByTokenandPeriod(period = \"Date\")\n",
    "dfPolygonInGrouped[\"In\"] = \"In Polygon\"\n",
    "dfPolygonOutGrouped[\"In\"] = \"Out to BSC\"\n",
    "dfForTree = dfPolygonInGrouped.append(dfPolygonOutGrouped)\n",
    "dfForTree = dfForTree[dfForTree['Date']==datetime.date(2021,6,3)]\n",
    "\n",
    "vendors = dfForTree.Token_Symbol\n",
    "regions = dfForTree.In\n",
    "sales = dfForTree.Volume['count'].values\n",
    "\n",
    "df = pd.DataFrame(\n",
    "    dict(vendors=vendors, regions=regions, sales=sales)\n",
    ")\n",
    "\n",
    "df[\"all\"] = \"all\" # in order to have a single root node\n",
    "\n",
    "fig = px.treemap(df, path=['all', 'regions', 'vendors'], \n",
    "                 values='sales', title=\"Total number of transactions between networks by token used on 3rd June\")\n",
    "fig.savefig('Plots/TotalNumberOfTransactionsOnDate{}.jpg'.format(date))\n",
    "fig.show()"
   ]
  },
  {
   "cell_type": "code",
   "execution_count": 16,
   "id": "ef30997e",
   "metadata": {},
   "outputs": [
    {
     "data": {
      "application/vnd.plotly.v1+json": {
       "config": {
        "plotlyServerURL": "https://plot.ly"
       },
       "data": [
        {
         "branchvalues": "total",
         "domain": {
          "x": [
           0,
           1
          ],
          "y": [
           0,
           1
          ]
         },
         "hovertemplate": "labels=%{label}<br>sales=%{value}<br>parent=%{parent}<br>id=%{id}<extra></extra>",
         "ids": [
          "all/In Polygon/2021-05-29/GEN",
          "all/In Polygon/2021-05-29/USDC",
          "all/In Polygon/2021-05-30/USDC",
          "all/In Polygon/2021-05-31/USDC",
          "all/In Polygon/2021-06-01/USDC",
          "all/In Polygon/2021-06-02/USDC",
          "all/In Polygon/2021-06-03/USDC",
          "all/In Polygon/2021-06-04/USDC",
          "all/In Polygon/2021-05-29/WETH",
          "all/In Polygon/2021-05-30/WETH",
          "all/In Polygon/2021-05-31/WETH",
          "all/In Polygon/2021-06-01/WETH",
          "all/In Polygon/2021-06-02/WETH",
          "all/In Polygon/2021-06-03/WETH",
          "all/In Polygon/2021-06-04/WETH",
          "all/In Polygon/2021-05-29/WMATIC",
          "all/Out to BSC/2021-05-29/WMATIC",
          "all/In Polygon/2021-05-30/WMATIC",
          "all/Out to BSC/2021-05-30/WMATIC",
          "all/In Polygon/2021-05-31/WMATIC",
          "all/Out to BSC/2021-05-31/WMATIC",
          "all/In Polygon/2021-05-29",
          "all/Out to BSC/2021-05-29",
          "all/In Polygon/2021-05-30",
          "all/Out to BSC/2021-05-30",
          "all/In Polygon/2021-05-31",
          "all/Out to BSC/2021-05-31",
          "all/In Polygon/2021-06-01",
          "all/In Polygon/2021-06-02",
          "all/In Polygon/2021-06-03",
          "all/In Polygon/2021-06-04",
          "all/In Polygon",
          "all/Out to BSC",
          "all"
         ],
         "labels": [
          "GEN",
          "USDC",
          "USDC",
          "USDC",
          "USDC",
          "USDC",
          "USDC",
          "USDC",
          "WETH",
          "WETH",
          "WETH",
          "WETH",
          "WETH",
          "WETH",
          "WETH",
          "WMATIC",
          "WMATIC",
          "WMATIC",
          "WMATIC",
          "WMATIC",
          "WMATIC",
          "2021-05-29",
          "2021-05-29",
          "2021-05-30",
          "2021-05-30",
          "2021-05-31",
          "2021-05-31",
          "2021-06-01",
          "2021-06-02",
          "2021-06-03",
          "2021-06-04",
          "In Polygon",
          "Out to BSC",
          "all"
         ],
         "name": "",
         "parents": [
          "all/In Polygon/2021-05-29",
          "all/In Polygon/2021-05-29",
          "all/In Polygon/2021-05-30",
          "all/In Polygon/2021-05-31",
          "all/In Polygon/2021-06-01",
          "all/In Polygon/2021-06-02",
          "all/In Polygon/2021-06-03",
          "all/In Polygon/2021-06-04",
          "all/In Polygon/2021-05-29",
          "all/In Polygon/2021-05-30",
          "all/In Polygon/2021-05-31",
          "all/In Polygon/2021-06-01",
          "all/In Polygon/2021-06-02",
          "all/In Polygon/2021-06-03",
          "all/In Polygon/2021-06-04",
          "all/In Polygon/2021-05-29",
          "all/Out to BSC/2021-05-29",
          "all/In Polygon/2021-05-30",
          "all/Out to BSC/2021-05-30",
          "all/In Polygon/2021-05-31",
          "all/Out to BSC/2021-05-31",
          "all/In Polygon",
          "all/Out to BSC",
          "all/In Polygon",
          "all/Out to BSC",
          "all/In Polygon",
          "all/Out to BSC",
          "all/In Polygon",
          "all/In Polygon",
          "all/In Polygon",
          "all/In Polygon",
          "all",
          "all",
          ""
         ],
         "type": "treemap",
         "values": [
          21,
          942,
          1081,
          1468,
          1697,
          1271,
          1423,
          396,
          76,
          101,
          115,
          98,
          71,
          78,
          28,
          55,
          83,
          93,
          8,
          42,
          2,
          1094,
          83,
          1275,
          8,
          1625,
          2,
          1795,
          1342,
          1501,
          424,
          9056,
          93,
          9149
         ]
        }
       ],
       "layout": {
        "legend": {
         "tracegroupgap": 0
        },
        "template": {
         "data": {
          "bar": [
           {
            "error_x": {
             "color": "#2a3f5f"
            },
            "error_y": {
             "color": "#2a3f5f"
            },
            "marker": {
             "line": {
              "color": "#E5ECF6",
              "width": 0.5
             }
            },
            "type": "bar"
           }
          ],
          "barpolar": [
           {
            "marker": {
             "line": {
              "color": "#E5ECF6",
              "width": 0.5
             }
            },
            "type": "barpolar"
           }
          ],
          "carpet": [
           {
            "aaxis": {
             "endlinecolor": "#2a3f5f",
             "gridcolor": "white",
             "linecolor": "white",
             "minorgridcolor": "white",
             "startlinecolor": "#2a3f5f"
            },
            "baxis": {
             "endlinecolor": "#2a3f5f",
             "gridcolor": "white",
             "linecolor": "white",
             "minorgridcolor": "white",
             "startlinecolor": "#2a3f5f"
            },
            "type": "carpet"
           }
          ],
          "choropleth": [
           {
            "colorbar": {
             "outlinewidth": 0,
             "ticks": ""
            },
            "type": "choropleth"
           }
          ],
          "contour": [
           {
            "colorbar": {
             "outlinewidth": 0,
             "ticks": ""
            },
            "colorscale": [
             [
              0,
              "#0d0887"
             ],
             [
              0.1111111111111111,
              "#46039f"
             ],
             [
              0.2222222222222222,
              "#7201a8"
             ],
             [
              0.3333333333333333,
              "#9c179e"
             ],
             [
              0.4444444444444444,
              "#bd3786"
             ],
             [
              0.5555555555555556,
              "#d8576b"
             ],
             [
              0.6666666666666666,
              "#ed7953"
             ],
             [
              0.7777777777777778,
              "#fb9f3a"
             ],
             [
              0.8888888888888888,
              "#fdca26"
             ],
             [
              1,
              "#f0f921"
             ]
            ],
            "type": "contour"
           }
          ],
          "contourcarpet": [
           {
            "colorbar": {
             "outlinewidth": 0,
             "ticks": ""
            },
            "type": "contourcarpet"
           }
          ],
          "heatmap": [
           {
            "colorbar": {
             "outlinewidth": 0,
             "ticks": ""
            },
            "colorscale": [
             [
              0,
              "#0d0887"
             ],
             [
              0.1111111111111111,
              "#46039f"
             ],
             [
              0.2222222222222222,
              "#7201a8"
             ],
             [
              0.3333333333333333,
              "#9c179e"
             ],
             [
              0.4444444444444444,
              "#bd3786"
             ],
             [
              0.5555555555555556,
              "#d8576b"
             ],
             [
              0.6666666666666666,
              "#ed7953"
             ],
             [
              0.7777777777777778,
              "#fb9f3a"
             ],
             [
              0.8888888888888888,
              "#fdca26"
             ],
             [
              1,
              "#f0f921"
             ]
            ],
            "type": "heatmap"
           }
          ],
          "heatmapgl": [
           {
            "colorbar": {
             "outlinewidth": 0,
             "ticks": ""
            },
            "colorscale": [
             [
              0,
              "#0d0887"
             ],
             [
              0.1111111111111111,
              "#46039f"
             ],
             [
              0.2222222222222222,
              "#7201a8"
             ],
             [
              0.3333333333333333,
              "#9c179e"
             ],
             [
              0.4444444444444444,
              "#bd3786"
             ],
             [
              0.5555555555555556,
              "#d8576b"
             ],
             [
              0.6666666666666666,
              "#ed7953"
             ],
             [
              0.7777777777777778,
              "#fb9f3a"
             ],
             [
              0.8888888888888888,
              "#fdca26"
             ],
             [
              1,
              "#f0f921"
             ]
            ],
            "type": "heatmapgl"
           }
          ],
          "histogram": [
           {
            "marker": {
             "colorbar": {
              "outlinewidth": 0,
              "ticks": ""
             }
            },
            "type": "histogram"
           }
          ],
          "histogram2d": [
           {
            "colorbar": {
             "outlinewidth": 0,
             "ticks": ""
            },
            "colorscale": [
             [
              0,
              "#0d0887"
             ],
             [
              0.1111111111111111,
              "#46039f"
             ],
             [
              0.2222222222222222,
              "#7201a8"
             ],
             [
              0.3333333333333333,
              "#9c179e"
             ],
             [
              0.4444444444444444,
              "#bd3786"
             ],
             [
              0.5555555555555556,
              "#d8576b"
             ],
             [
              0.6666666666666666,
              "#ed7953"
             ],
             [
              0.7777777777777778,
              "#fb9f3a"
             ],
             [
              0.8888888888888888,
              "#fdca26"
             ],
             [
              1,
              "#f0f921"
             ]
            ],
            "type": "histogram2d"
           }
          ],
          "histogram2dcontour": [
           {
            "colorbar": {
             "outlinewidth": 0,
             "ticks": ""
            },
            "colorscale": [
             [
              0,
              "#0d0887"
             ],
             [
              0.1111111111111111,
              "#46039f"
             ],
             [
              0.2222222222222222,
              "#7201a8"
             ],
             [
              0.3333333333333333,
              "#9c179e"
             ],
             [
              0.4444444444444444,
              "#bd3786"
             ],
             [
              0.5555555555555556,
              "#d8576b"
             ],
             [
              0.6666666666666666,
              "#ed7953"
             ],
             [
              0.7777777777777778,
              "#fb9f3a"
             ],
             [
              0.8888888888888888,
              "#fdca26"
             ],
             [
              1,
              "#f0f921"
             ]
            ],
            "type": "histogram2dcontour"
           }
          ],
          "mesh3d": [
           {
            "colorbar": {
             "outlinewidth": 0,
             "ticks": ""
            },
            "type": "mesh3d"
           }
          ],
          "parcoords": [
           {
            "line": {
             "colorbar": {
              "outlinewidth": 0,
              "ticks": ""
             }
            },
            "type": "parcoords"
           }
          ],
          "pie": [
           {
            "automargin": true,
            "type": "pie"
           }
          ],
          "scatter": [
           {
            "marker": {
             "colorbar": {
              "outlinewidth": 0,
              "ticks": ""
             }
            },
            "type": "scatter"
           }
          ],
          "scatter3d": [
           {
            "line": {
             "colorbar": {
              "outlinewidth": 0,
              "ticks": ""
             }
            },
            "marker": {
             "colorbar": {
              "outlinewidth": 0,
              "ticks": ""
             }
            },
            "type": "scatter3d"
           }
          ],
          "scattercarpet": [
           {
            "marker": {
             "colorbar": {
              "outlinewidth": 0,
              "ticks": ""
             }
            },
            "type": "scattercarpet"
           }
          ],
          "scattergeo": [
           {
            "marker": {
             "colorbar": {
              "outlinewidth": 0,
              "ticks": ""
             }
            },
            "type": "scattergeo"
           }
          ],
          "scattergl": [
           {
            "marker": {
             "colorbar": {
              "outlinewidth": 0,
              "ticks": ""
             }
            },
            "type": "scattergl"
           }
          ],
          "scattermapbox": [
           {
            "marker": {
             "colorbar": {
              "outlinewidth": 0,
              "ticks": ""
             }
            },
            "type": "scattermapbox"
           }
          ],
          "scatterpolar": [
           {
            "marker": {
             "colorbar": {
              "outlinewidth": 0,
              "ticks": ""
             }
            },
            "type": "scatterpolar"
           }
          ],
          "scatterpolargl": [
           {
            "marker": {
             "colorbar": {
              "outlinewidth": 0,
              "ticks": ""
             }
            },
            "type": "scatterpolargl"
           }
          ],
          "scatterternary": [
           {
            "marker": {
             "colorbar": {
              "outlinewidth": 0,
              "ticks": ""
             }
            },
            "type": "scatterternary"
           }
          ],
          "surface": [
           {
            "colorbar": {
             "outlinewidth": 0,
             "ticks": ""
            },
            "colorscale": [
             [
              0,
              "#0d0887"
             ],
             [
              0.1111111111111111,
              "#46039f"
             ],
             [
              0.2222222222222222,
              "#7201a8"
             ],
             [
              0.3333333333333333,
              "#9c179e"
             ],
             [
              0.4444444444444444,
              "#bd3786"
             ],
             [
              0.5555555555555556,
              "#d8576b"
             ],
             [
              0.6666666666666666,
              "#ed7953"
             ],
             [
              0.7777777777777778,
              "#fb9f3a"
             ],
             [
              0.8888888888888888,
              "#fdca26"
             ],
             [
              1,
              "#f0f921"
             ]
            ],
            "type": "surface"
           }
          ],
          "table": [
           {
            "cells": {
             "fill": {
              "color": "#EBF0F8"
             },
             "line": {
              "color": "white"
             }
            },
            "header": {
             "fill": {
              "color": "#C8D4E3"
             },
             "line": {
              "color": "white"
             }
            },
            "type": "table"
           }
          ]
         },
         "layout": {
          "annotationdefaults": {
           "arrowcolor": "#2a3f5f",
           "arrowhead": 0,
           "arrowwidth": 1
          },
          "autotypenumbers": "strict",
          "coloraxis": {
           "colorbar": {
            "outlinewidth": 0,
            "ticks": ""
           }
          },
          "colorscale": {
           "diverging": [
            [
             0,
             "#8e0152"
            ],
            [
             0.1,
             "#c51b7d"
            ],
            [
             0.2,
             "#de77ae"
            ],
            [
             0.3,
             "#f1b6da"
            ],
            [
             0.4,
             "#fde0ef"
            ],
            [
             0.5,
             "#f7f7f7"
            ],
            [
             0.6,
             "#e6f5d0"
            ],
            [
             0.7,
             "#b8e186"
            ],
            [
             0.8,
             "#7fbc41"
            ],
            [
             0.9,
             "#4d9221"
            ],
            [
             1,
             "#276419"
            ]
           ],
           "sequential": [
            [
             0,
             "#0d0887"
            ],
            [
             0.1111111111111111,
             "#46039f"
            ],
            [
             0.2222222222222222,
             "#7201a8"
            ],
            [
             0.3333333333333333,
             "#9c179e"
            ],
            [
             0.4444444444444444,
             "#bd3786"
            ],
            [
             0.5555555555555556,
             "#d8576b"
            ],
            [
             0.6666666666666666,
             "#ed7953"
            ],
            [
             0.7777777777777778,
             "#fb9f3a"
            ],
            [
             0.8888888888888888,
             "#fdca26"
            ],
            [
             1,
             "#f0f921"
            ]
           ],
           "sequentialminus": [
            [
             0,
             "#0d0887"
            ],
            [
             0.1111111111111111,
             "#46039f"
            ],
            [
             0.2222222222222222,
             "#7201a8"
            ],
            [
             0.3333333333333333,
             "#9c179e"
            ],
            [
             0.4444444444444444,
             "#bd3786"
            ],
            [
             0.5555555555555556,
             "#d8576b"
            ],
            [
             0.6666666666666666,
             "#ed7953"
            ],
            [
             0.7777777777777778,
             "#fb9f3a"
            ],
            [
             0.8888888888888888,
             "#fdca26"
            ],
            [
             1,
             "#f0f921"
            ]
           ]
          },
          "colorway": [
           "#636efa",
           "#EF553B",
           "#00cc96",
           "#ab63fa",
           "#FFA15A",
           "#19d3f3",
           "#FF6692",
           "#B6E880",
           "#FF97FF",
           "#FECB52"
          ],
          "font": {
           "color": "#2a3f5f"
          },
          "geo": {
           "bgcolor": "white",
           "lakecolor": "white",
           "landcolor": "#E5ECF6",
           "showlakes": true,
           "showland": true,
           "subunitcolor": "white"
          },
          "hoverlabel": {
           "align": "left"
          },
          "hovermode": "closest",
          "mapbox": {
           "style": "light"
          },
          "paper_bgcolor": "white",
          "plot_bgcolor": "#E5ECF6",
          "polar": {
           "angularaxis": {
            "gridcolor": "white",
            "linecolor": "white",
            "ticks": ""
           },
           "bgcolor": "#E5ECF6",
           "radialaxis": {
            "gridcolor": "white",
            "linecolor": "white",
            "ticks": ""
           }
          },
          "scene": {
           "xaxis": {
            "backgroundcolor": "#E5ECF6",
            "gridcolor": "white",
            "gridwidth": 2,
            "linecolor": "white",
            "showbackground": true,
            "ticks": "",
            "zerolinecolor": "white"
           },
           "yaxis": {
            "backgroundcolor": "#E5ECF6",
            "gridcolor": "white",
            "gridwidth": 2,
            "linecolor": "white",
            "showbackground": true,
            "ticks": "",
            "zerolinecolor": "white"
           },
           "zaxis": {
            "backgroundcolor": "#E5ECF6",
            "gridcolor": "white",
            "gridwidth": 2,
            "linecolor": "white",
            "showbackground": true,
            "ticks": "",
            "zerolinecolor": "white"
           }
          },
          "shapedefaults": {
           "line": {
            "color": "#2a3f5f"
           }
          },
          "ternary": {
           "aaxis": {
            "gridcolor": "white",
            "linecolor": "white",
            "ticks": ""
           },
           "baxis": {
            "gridcolor": "white",
            "linecolor": "white",
            "ticks": ""
           },
           "bgcolor": "#E5ECF6",
           "caxis": {
            "gridcolor": "white",
            "linecolor": "white",
            "ticks": ""
           }
          },
          "title": {
           "x": 0.05
          },
          "xaxis": {
           "automargin": true,
           "gridcolor": "white",
           "linecolor": "white",
           "ticks": "",
           "title": {
            "standoff": 15
           },
           "zerolinecolor": "white",
           "zerolinewidth": 2
          },
          "yaxis": {
           "automargin": true,
           "gridcolor": "white",
           "linecolor": "white",
           "ticks": "",
           "title": {
            "standoff": 15
           },
           "zerolinecolor": "white",
           "zerolinewidth": 2
          }
         }
        },
        "title": {
         "text": "Total number of transactions between networks by token used"
        }
       }
      },
      "text/html": [
       "<div>                            <div id=\"e3bfd810-a756-4871-b4cd-a8bc5169d01b\" class=\"plotly-graph-div\" style=\"height:525px; width:100%;\"></div>            <script type=\"text/javascript\">                require([\"plotly\"], function(Plotly) {                    window.PLOTLYENV=window.PLOTLYENV || {};                                    if (document.getElementById(\"e3bfd810-a756-4871-b4cd-a8bc5169d01b\")) {                    Plotly.newPlot(                        \"e3bfd810-a756-4871-b4cd-a8bc5169d01b\",                        [{\"branchvalues\": \"total\", \"domain\": {\"x\": [0.0, 1.0], \"y\": [0.0, 1.0]}, \"hovertemplate\": \"labels=%{label}<br>sales=%{value}<br>parent=%{parent}<br>id=%{id}<extra></extra>\", \"ids\": [\"all/In Polygon/2021-05-29/GEN\", \"all/In Polygon/2021-05-29/USDC\", \"all/In Polygon/2021-05-30/USDC\", \"all/In Polygon/2021-05-31/USDC\", \"all/In Polygon/2021-06-01/USDC\", \"all/In Polygon/2021-06-02/USDC\", \"all/In Polygon/2021-06-03/USDC\", \"all/In Polygon/2021-06-04/USDC\", \"all/In Polygon/2021-05-29/WETH\", \"all/In Polygon/2021-05-30/WETH\", \"all/In Polygon/2021-05-31/WETH\", \"all/In Polygon/2021-06-01/WETH\", \"all/In Polygon/2021-06-02/WETH\", \"all/In Polygon/2021-06-03/WETH\", \"all/In Polygon/2021-06-04/WETH\", \"all/In Polygon/2021-05-29/WMATIC\", \"all/Out to BSC/2021-05-29/WMATIC\", \"all/In Polygon/2021-05-30/WMATIC\", \"all/Out to BSC/2021-05-30/WMATIC\", \"all/In Polygon/2021-05-31/WMATIC\", \"all/Out to BSC/2021-05-31/WMATIC\", \"all/In Polygon/2021-05-29\", \"all/Out to BSC/2021-05-29\", \"all/In Polygon/2021-05-30\", \"all/Out to BSC/2021-05-30\", \"all/In Polygon/2021-05-31\", \"all/Out to BSC/2021-05-31\", \"all/In Polygon/2021-06-01\", \"all/In Polygon/2021-06-02\", \"all/In Polygon/2021-06-03\", \"all/In Polygon/2021-06-04\", \"all/In Polygon\", \"all/Out to BSC\", \"all\"], \"labels\": [\"GEN\", \"USDC\", \"USDC\", \"USDC\", \"USDC\", \"USDC\", \"USDC\", \"USDC\", \"WETH\", \"WETH\", \"WETH\", \"WETH\", \"WETH\", \"WETH\", \"WETH\", \"WMATIC\", \"WMATIC\", \"WMATIC\", \"WMATIC\", \"WMATIC\", \"WMATIC\", \"2021-05-29\", \"2021-05-29\", \"2021-05-30\", \"2021-05-30\", \"2021-05-31\", \"2021-05-31\", \"2021-06-01\", \"2021-06-02\", \"2021-06-03\", \"2021-06-04\", \"In Polygon\", \"Out to BSC\", \"all\"], \"name\": \"\", \"parents\": [\"all/In Polygon/2021-05-29\", \"all/In Polygon/2021-05-29\", \"all/In Polygon/2021-05-30\", \"all/In Polygon/2021-05-31\", \"all/In Polygon/2021-06-01\", \"all/In Polygon/2021-06-02\", \"all/In Polygon/2021-06-03\", \"all/In Polygon/2021-06-04\", \"all/In Polygon/2021-05-29\", \"all/In Polygon/2021-05-30\", \"all/In Polygon/2021-05-31\", \"all/In Polygon/2021-06-01\", \"all/In Polygon/2021-06-02\", \"all/In Polygon/2021-06-03\", \"all/In Polygon/2021-06-04\", \"all/In Polygon/2021-05-29\", \"all/Out to BSC/2021-05-29\", \"all/In Polygon/2021-05-30\", \"all/Out to BSC/2021-05-30\", \"all/In Polygon/2021-05-31\", \"all/Out to BSC/2021-05-31\", \"all/In Polygon\", \"all/Out to BSC\", \"all/In Polygon\", \"all/Out to BSC\", \"all/In Polygon\", \"all/Out to BSC\", \"all/In Polygon\", \"all/In Polygon\", \"all/In Polygon\", \"all/In Polygon\", \"all\", \"all\", \"\"], \"type\": \"treemap\", \"values\": [21, 942, 1081, 1468, 1697, 1271, 1423, 396, 76, 101, 115, 98, 71, 78, 28, 55, 83, 93, 8, 42, 2, 1094, 83, 1275, 8, 1625, 2, 1795, 1342, 1501, 424, 9056, 93, 9149]}],                        {\"legend\": {\"tracegroupgap\": 0}, \"template\": {\"data\": {\"bar\": [{\"error_x\": {\"color\": \"#2a3f5f\"}, \"error_y\": {\"color\": \"#2a3f5f\"}, \"marker\": {\"line\": {\"color\": \"#E5ECF6\", \"width\": 0.5}}, \"type\": \"bar\"}], \"barpolar\": [{\"marker\": {\"line\": {\"color\": \"#E5ECF6\", \"width\": 0.5}}, \"type\": \"barpolar\"}], \"carpet\": [{\"aaxis\": {\"endlinecolor\": \"#2a3f5f\", \"gridcolor\": \"white\", \"linecolor\": \"white\", \"minorgridcolor\": \"white\", \"startlinecolor\": \"#2a3f5f\"}, \"baxis\": {\"endlinecolor\": \"#2a3f5f\", \"gridcolor\": \"white\", \"linecolor\": \"white\", \"minorgridcolor\": \"white\", \"startlinecolor\": \"#2a3f5f\"}, \"type\": \"carpet\"}], \"choropleth\": [{\"colorbar\": {\"outlinewidth\": 0, \"ticks\": \"\"}, \"type\": \"choropleth\"}], \"contour\": [{\"colorbar\": {\"outlinewidth\": 0, \"ticks\": \"\"}, \"colorscale\": [[0.0, \"#0d0887\"], [0.1111111111111111, \"#46039f\"], [0.2222222222222222, \"#7201a8\"], [0.3333333333333333, \"#9c179e\"], [0.4444444444444444, \"#bd3786\"], [0.5555555555555556, \"#d8576b\"], [0.6666666666666666, \"#ed7953\"], [0.7777777777777778, \"#fb9f3a\"], [0.8888888888888888, \"#fdca26\"], [1.0, \"#f0f921\"]], \"type\": \"contour\"}], \"contourcarpet\": [{\"colorbar\": {\"outlinewidth\": 0, \"ticks\": \"\"}, \"type\": \"contourcarpet\"}], \"heatmap\": [{\"colorbar\": {\"outlinewidth\": 0, \"ticks\": \"\"}, \"colorscale\": [[0.0, \"#0d0887\"], [0.1111111111111111, \"#46039f\"], [0.2222222222222222, \"#7201a8\"], [0.3333333333333333, \"#9c179e\"], [0.4444444444444444, \"#bd3786\"], [0.5555555555555556, \"#d8576b\"], [0.6666666666666666, \"#ed7953\"], [0.7777777777777778, \"#fb9f3a\"], [0.8888888888888888, \"#fdca26\"], [1.0, \"#f0f921\"]], \"type\": \"heatmap\"}], \"heatmapgl\": [{\"colorbar\": {\"outlinewidth\": 0, \"ticks\": \"\"}, \"colorscale\": [[0.0, \"#0d0887\"], [0.1111111111111111, \"#46039f\"], [0.2222222222222222, \"#7201a8\"], [0.3333333333333333, \"#9c179e\"], [0.4444444444444444, \"#bd3786\"], [0.5555555555555556, \"#d8576b\"], [0.6666666666666666, \"#ed7953\"], [0.7777777777777778, \"#fb9f3a\"], [0.8888888888888888, \"#fdca26\"], [1.0, \"#f0f921\"]], \"type\": \"heatmapgl\"}], \"histogram\": [{\"marker\": {\"colorbar\": {\"outlinewidth\": 0, \"ticks\": \"\"}}, \"type\": \"histogram\"}], \"histogram2d\": [{\"colorbar\": {\"outlinewidth\": 0, \"ticks\": \"\"}, \"colorscale\": [[0.0, \"#0d0887\"], [0.1111111111111111, \"#46039f\"], [0.2222222222222222, \"#7201a8\"], [0.3333333333333333, \"#9c179e\"], [0.4444444444444444, \"#bd3786\"], [0.5555555555555556, \"#d8576b\"], [0.6666666666666666, \"#ed7953\"], [0.7777777777777778, \"#fb9f3a\"], [0.8888888888888888, \"#fdca26\"], [1.0, \"#f0f921\"]], \"type\": \"histogram2d\"}], \"histogram2dcontour\": [{\"colorbar\": {\"outlinewidth\": 0, \"ticks\": \"\"}, \"colorscale\": [[0.0, \"#0d0887\"], [0.1111111111111111, \"#46039f\"], [0.2222222222222222, \"#7201a8\"], [0.3333333333333333, \"#9c179e\"], [0.4444444444444444, \"#bd3786\"], [0.5555555555555556, \"#d8576b\"], [0.6666666666666666, \"#ed7953\"], [0.7777777777777778, \"#fb9f3a\"], [0.8888888888888888, \"#fdca26\"], [1.0, \"#f0f921\"]], \"type\": \"histogram2dcontour\"}], \"mesh3d\": [{\"colorbar\": {\"outlinewidth\": 0, \"ticks\": \"\"}, \"type\": \"mesh3d\"}], \"parcoords\": [{\"line\": {\"colorbar\": {\"outlinewidth\": 0, \"ticks\": \"\"}}, \"type\": \"parcoords\"}], \"pie\": [{\"automargin\": true, \"type\": \"pie\"}], \"scatter\": [{\"marker\": {\"colorbar\": {\"outlinewidth\": 0, \"ticks\": \"\"}}, \"type\": \"scatter\"}], \"scatter3d\": [{\"line\": {\"colorbar\": {\"outlinewidth\": 0, \"ticks\": \"\"}}, \"marker\": {\"colorbar\": {\"outlinewidth\": 0, \"ticks\": \"\"}}, \"type\": \"scatter3d\"}], \"scattercarpet\": [{\"marker\": {\"colorbar\": {\"outlinewidth\": 0, \"ticks\": \"\"}}, \"type\": \"scattercarpet\"}], \"scattergeo\": [{\"marker\": {\"colorbar\": {\"outlinewidth\": 0, \"ticks\": \"\"}}, \"type\": \"scattergeo\"}], \"scattergl\": [{\"marker\": {\"colorbar\": {\"outlinewidth\": 0, \"ticks\": \"\"}}, \"type\": \"scattergl\"}], \"scattermapbox\": [{\"marker\": {\"colorbar\": {\"outlinewidth\": 0, \"ticks\": \"\"}}, \"type\": \"scattermapbox\"}], \"scatterpolar\": [{\"marker\": {\"colorbar\": {\"outlinewidth\": 0, \"ticks\": \"\"}}, \"type\": \"scatterpolar\"}], \"scatterpolargl\": [{\"marker\": {\"colorbar\": {\"outlinewidth\": 0, \"ticks\": \"\"}}, \"type\": \"scatterpolargl\"}], \"scatterternary\": [{\"marker\": {\"colorbar\": {\"outlinewidth\": 0, \"ticks\": \"\"}}, \"type\": \"scatterternary\"}], \"surface\": [{\"colorbar\": {\"outlinewidth\": 0, \"ticks\": \"\"}, \"colorscale\": [[0.0, \"#0d0887\"], [0.1111111111111111, \"#46039f\"], [0.2222222222222222, \"#7201a8\"], [0.3333333333333333, \"#9c179e\"], [0.4444444444444444, \"#bd3786\"], [0.5555555555555556, \"#d8576b\"], [0.6666666666666666, \"#ed7953\"], [0.7777777777777778, \"#fb9f3a\"], [0.8888888888888888, \"#fdca26\"], [1.0, \"#f0f921\"]], \"type\": \"surface\"}], \"table\": [{\"cells\": {\"fill\": {\"color\": \"#EBF0F8\"}, \"line\": {\"color\": \"white\"}}, \"header\": {\"fill\": {\"color\": \"#C8D4E3\"}, \"line\": {\"color\": \"white\"}}, \"type\": \"table\"}]}, \"layout\": {\"annotationdefaults\": {\"arrowcolor\": \"#2a3f5f\", \"arrowhead\": 0, \"arrowwidth\": 1}, \"autotypenumbers\": \"strict\", \"coloraxis\": {\"colorbar\": {\"outlinewidth\": 0, \"ticks\": \"\"}}, \"colorscale\": {\"diverging\": [[0, \"#8e0152\"], [0.1, \"#c51b7d\"], [0.2, \"#de77ae\"], [0.3, \"#f1b6da\"], [0.4, \"#fde0ef\"], [0.5, \"#f7f7f7\"], [0.6, \"#e6f5d0\"], [0.7, \"#b8e186\"], [0.8, \"#7fbc41\"], [0.9, \"#4d9221\"], [1, \"#276419\"]], \"sequential\": [[0.0, \"#0d0887\"], [0.1111111111111111, \"#46039f\"], [0.2222222222222222, \"#7201a8\"], [0.3333333333333333, \"#9c179e\"], [0.4444444444444444, \"#bd3786\"], [0.5555555555555556, \"#d8576b\"], [0.6666666666666666, \"#ed7953\"], [0.7777777777777778, \"#fb9f3a\"], [0.8888888888888888, \"#fdca26\"], [1.0, \"#f0f921\"]], \"sequentialminus\": [[0.0, \"#0d0887\"], [0.1111111111111111, \"#46039f\"], [0.2222222222222222, \"#7201a8\"], [0.3333333333333333, \"#9c179e\"], [0.4444444444444444, \"#bd3786\"], [0.5555555555555556, \"#d8576b\"], [0.6666666666666666, \"#ed7953\"], [0.7777777777777778, \"#fb9f3a\"], [0.8888888888888888, \"#fdca26\"], [1.0, \"#f0f921\"]]}, \"colorway\": [\"#636efa\", \"#EF553B\", \"#00cc96\", \"#ab63fa\", \"#FFA15A\", \"#19d3f3\", \"#FF6692\", \"#B6E880\", \"#FF97FF\", \"#FECB52\"], \"font\": {\"color\": \"#2a3f5f\"}, \"geo\": {\"bgcolor\": \"white\", \"lakecolor\": \"white\", \"landcolor\": \"#E5ECF6\", \"showlakes\": true, \"showland\": true, \"subunitcolor\": \"white\"}, \"hoverlabel\": {\"align\": \"left\"}, \"hovermode\": \"closest\", \"mapbox\": {\"style\": \"light\"}, \"paper_bgcolor\": \"white\", \"plot_bgcolor\": \"#E5ECF6\", \"polar\": {\"angularaxis\": {\"gridcolor\": \"white\", \"linecolor\": \"white\", \"ticks\": \"\"}, \"bgcolor\": \"#E5ECF6\", \"radialaxis\": {\"gridcolor\": \"white\", \"linecolor\": \"white\", \"ticks\": \"\"}}, \"scene\": {\"xaxis\": {\"backgroundcolor\": \"#E5ECF6\", \"gridcolor\": \"white\", \"gridwidth\": 2, \"linecolor\": \"white\", \"showbackground\": true, \"ticks\": \"\", \"zerolinecolor\": \"white\"}, \"yaxis\": {\"backgroundcolor\": \"#E5ECF6\", \"gridcolor\": \"white\", \"gridwidth\": 2, \"linecolor\": \"white\", \"showbackground\": true, \"ticks\": \"\", \"zerolinecolor\": \"white\"}, \"zaxis\": {\"backgroundcolor\": \"#E5ECF6\", \"gridcolor\": \"white\", \"gridwidth\": 2, \"linecolor\": \"white\", \"showbackground\": true, \"ticks\": \"\", \"zerolinecolor\": \"white\"}}, \"shapedefaults\": {\"line\": {\"color\": \"#2a3f5f\"}}, \"ternary\": {\"aaxis\": {\"gridcolor\": \"white\", \"linecolor\": \"white\", \"ticks\": \"\"}, \"baxis\": {\"gridcolor\": \"white\", \"linecolor\": \"white\", \"ticks\": \"\"}, \"bgcolor\": \"#E5ECF6\", \"caxis\": {\"gridcolor\": \"white\", \"linecolor\": \"white\", \"ticks\": \"\"}}, \"title\": {\"x\": 0.05}, \"xaxis\": {\"automargin\": true, \"gridcolor\": \"white\", \"linecolor\": \"white\", \"ticks\": \"\", \"title\": {\"standoff\": 15}, \"zerolinecolor\": \"white\", \"zerolinewidth\": 2}, \"yaxis\": {\"automargin\": true, \"gridcolor\": \"white\", \"linecolor\": \"white\", \"ticks\": \"\", \"title\": {\"standoff\": 15}, \"zerolinecolor\": \"white\", \"zerolinewidth\": 2}}}, \"title\": {\"text\": \"Total number of transactions between networks by token used\"}},                        {\"responsive\": true}                    ).then(function(){\n",
       "                            \n",
       "var gd = document.getElementById('e3bfd810-a756-4871-b4cd-a8bc5169d01b');\n",
       "var x = new MutationObserver(function (mutations, observer) {{\n",
       "        var display = window.getComputedStyle(gd).display;\n",
       "        if (!display || display === 'none') {{\n",
       "            console.log([gd, 'removed!']);\n",
       "            Plotly.purge(gd);\n",
       "            observer.disconnect();\n",
       "        }}\n",
       "}});\n",
       "\n",
       "// Listen for the removal of the full notebook cells\n",
       "var notebookContainer = gd.closest('#notebook-container');\n",
       "if (notebookContainer) {{\n",
       "    x.observe(notebookContainer, {childList: true});\n",
       "}}\n",
       "\n",
       "// Listen for the clearing of the current output cell\n",
       "var outputEl = gd.closest('.output');\n",
       "if (outputEl) {{\n",
       "    x.observe(outputEl, {childList: true});\n",
       "}}\n",
       "\n",
       "                        })                };                });            </script>        </div>"
      ]
     },
     "metadata": {},
     "output_type": "display_data"
    }
   ],
   "source": [
    "import plotly.express as px\n",
    "\n",
    "dfPolygonInGrouped, dfPolygonOutGrouped = groupByTokenandPeriod(period = \"Date\")\n",
    "dfPolygonInGrouped[\"In\"] = \"In Polygon\"\n",
    "dfPolygonOutGrouped[\"In\"] = \"Out to BSC\"\n",
    "dfForTree = dfPolygonInGrouped.append(dfPolygonOutGrouped)\n",
    "\n",
    "vendors = dfForTree.Token_Symbol\n",
    "regions = dfForTree.In\n",
    "sales = dfForTree.Volume['count'].values\n",
    "dates = dfForTree['Date'].values\n",
    "\n",
    "df = pd.DataFrame(\n",
    "    dict(vendors=vendors, regions=regions, dates = dates, sales=sales)\n",
    ")\n",
    "\n",
    "df[\"all\"] = \"all\" # in order to have a single root node\n",
    "\n",
    "fig = px.treemap(df, path=['all', 'regions', 'dates', 'vendors'], \n",
    "                 values='sales', title=\"Total number of transactions between networks by token used\")\n",
    "fig.show()"
   ]
  },
  {
   "cell_type": "code",
   "execution_count": null,
   "id": "22d5133e",
   "metadata": {},
   "outputs": [],
   "source": []
  }
 ],
 "metadata": {
  "kernelspec": {
   "display_name": "Python 3",
   "language": "python",
   "name": "python3"
  },
  "language_info": {
   "codemirror_mode": {
    "name": "ipython",
    "version": 3
   },
   "file_extension": ".py",
   "mimetype": "text/x-python",
   "name": "python",
   "nbconvert_exporter": "python",
   "pygments_lexer": "ipython3",
   "version": "3.9.2"
  }
 },
 "nbformat": 4,
 "nbformat_minor": 5
}
